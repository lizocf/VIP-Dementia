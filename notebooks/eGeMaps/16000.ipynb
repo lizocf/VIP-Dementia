{
 "cells": [
  {
   "cell_type": "code",
   "execution_count": 3,
   "id": "25d6b6ba-8deb-434e-800d-52b0ddc71e95",
   "metadata": {
    "tags": []
   },
   "outputs": [
    {
     "name": "stdout",
     "output_type": "stream",
     "text": [
      "/home/ec2-user/SageMaker/VIP-Dementia\n"
     ]
    }
   ],
   "source": [
    "cd /home/ec2-user/SageMaker/VIP-Dementia"
   ]
  },
  {
   "cell_type": "code",
   "execution_count": 4,
   "id": "d9f93eef-1342-4dab-bf30-87cdb6363f49",
   "metadata": {
    "collapsed": true,
    "jupyter": {
     "outputs_hidden": true
    },
    "tags": []
   },
   "outputs": [
    {
     "name": "stdout",
     "output_type": "stream",
     "text": [
      "Requirement already satisfied: numpy in /home/ec2-user/anaconda3/envs/python3/lib/python3.10/site-packages (from -r requirements.txt (line 1)) (1.22.4)\n",
      "Requirement already satisfied: scikit-learn in /home/ec2-user/anaconda3/envs/python3/lib/python3.10/site-packages (from -r requirements.txt (line 2)) (1.4.1.post1)\n",
      "Requirement already satisfied: json5 in /home/ec2-user/anaconda3/envs/python3/lib/python3.10/site-packages (from -r requirements.txt (line 3)) (0.9.17)\n",
      "Collecting librosa (from -r requirements.txt (line 5))\n",
      "  Downloading librosa-0.10.1-py3-none-any.whl.metadata (8.3 kB)\n",
      "Requirement already satisfied: joblib in /home/ec2-user/anaconda3/envs/python3/lib/python3.10/site-packages (from -r requirements.txt (line 6)) (1.3.2)\n",
      "Requirement already satisfied: pandas in /home/ec2-user/anaconda3/envs/python3/lib/python3.10/site-packages (from -r requirements.txt (line 7)) (2.2.0)\n",
      "Collecting opensmile (from -r requirements.txt (line 8))\n",
      "  Downloading opensmile-2.5.0-py3-none-manylinux_2_17_x86_64.whl.metadata (15 kB)\n",
      "Requirement already satisfied: tqdm in /home/ec2-user/anaconda3/envs/python3/lib/python3.10/site-packages (from -r requirements.txt (line 9)) (4.66.2)\n",
      "Collecting xgboost (from -r requirements.txt (line 10))\n",
      "  Downloading xgboost-2.0.3-py3-none-manylinux2014_x86_64.whl.metadata (2.0 kB)\n",
      "Collecting lightgbm (from -r requirements.txt (line 11))\n",
      "  Downloading lightgbm-4.3.0.tar.gz (1.7 MB)\n",
      "\u001b[2K     \u001b[90m━━━━━━━━━━━━━━━━━━━━━━━━━━━━━━━━━━━━━━━━\u001b[0m \u001b[32m1.7/1.7 MB\u001b[0m \u001b[31m20.6 MB/s\u001b[0m eta \u001b[36m0:00:00\u001b[0m00:01\u001b[0m0:01\u001b[0m\n",
      "\u001b[?25h  Installing build dependencies ... \u001b[?25ldone\n",
      "\u001b[?25h  Getting requirements to build wheel ... \u001b[?25ldone\n",
      "\u001b[?25h  Installing backend dependencies ... \u001b[?25ldone\n",
      "\u001b[?25h  Preparing metadata (pyproject.toml) ... \u001b[?25ldone\n",
      "\u001b[?25hRequirement already satisfied: scipy>=1.6.0 in /home/ec2-user/anaconda3/envs/python3/lib/python3.10/site-packages (from scikit-learn->-r requirements.txt (line 2)) (1.12.0)\n",
      "Requirement already satisfied: threadpoolctl>=2.0.0 in /home/ec2-user/anaconda3/envs/python3/lib/python3.10/site-packages (from scikit-learn->-r requirements.txt (line 2)) (3.3.0)\n",
      "Collecting audioread>=2.1.9 (from librosa->-r requirements.txt (line 5))\n",
      "  Downloading audioread-3.0.1-py3-none-any.whl.metadata (8.4 kB)\n",
      "Requirement already satisfied: decorator>=4.3.0 in /home/ec2-user/anaconda3/envs/python3/lib/python3.10/site-packages (from librosa->-r requirements.txt (line 5)) (5.1.1)\n",
      "Requirement already satisfied: numba>=0.51.0 in /home/ec2-user/anaconda3/envs/python3/lib/python3.10/site-packages (from librosa->-r requirements.txt (line 5)) (0.59.0)\n",
      "Collecting soundfile>=0.12.1 (from librosa->-r requirements.txt (line 5))\n",
      "  Downloading soundfile-0.12.1-py2.py3-none-manylinux_2_17_x86_64.whl.metadata (14 kB)\n",
      "Collecting pooch>=1.0 (from librosa->-r requirements.txt (line 5))\n",
      "  Downloading pooch-1.8.1-py3-none-any.whl.metadata (9.5 kB)\n",
      "Collecting soxr>=0.3.2 (from librosa->-r requirements.txt (line 5))\n",
      "  Downloading soxr-0.3.7-cp310-cp310-manylinux_2_17_x86_64.manylinux2014_x86_64.whl.metadata (5.5 kB)\n",
      "Requirement already satisfied: typing-extensions>=4.1.1 in /home/ec2-user/anaconda3/envs/python3/lib/python3.10/site-packages (from librosa->-r requirements.txt (line 5)) (4.9.0)\n",
      "Requirement already satisfied: lazy-loader>=0.1 in /home/ec2-user/anaconda3/envs/python3/lib/python3.10/site-packages (from librosa->-r requirements.txt (line 5)) (0.3)\n",
      "Requirement already satisfied: msgpack>=1.0 in /home/ec2-user/anaconda3/envs/python3/lib/python3.10/site-packages (from librosa->-r requirements.txt (line 5)) (1.0.7)\n",
      "Requirement already satisfied: python-dateutil>=2.8.2 in /home/ec2-user/anaconda3/envs/python3/lib/python3.10/site-packages (from pandas->-r requirements.txt (line 7)) (2.8.2)\n",
      "Requirement already satisfied: pytz>=2020.1 in /home/ec2-user/anaconda3/envs/python3/lib/python3.10/site-packages (from pandas->-r requirements.txt (line 7)) (2024.1)\n",
      "Requirement already satisfied: tzdata>=2022.7 in /home/ec2-user/anaconda3/envs/python3/lib/python3.10/site-packages (from pandas->-r requirements.txt (line 7)) (2024.1)\n",
      "Collecting audobject>=0.6.1 (from opensmile->-r requirements.txt (line 8))\n",
      "  Downloading audobject-0.7.11-py3-none-any.whl.metadata (2.6 kB)\n",
      "Collecting audinterface>=0.7.0 (from opensmile->-r requirements.txt (line 8))\n",
      "  Downloading audinterface-1.2.1-py3-none-any.whl.metadata (4.2 kB)\n",
      "Collecting audeer>=1.18.0 (from audinterface>=0.7.0->opensmile->-r requirements.txt (line 8))\n",
      "  Downloading audeer-2.0.0-py3-none-any.whl.metadata (4.1 kB)\n",
      "Collecting audformat<2.0.0,>=1.0.1 (from audinterface>=0.7.0->opensmile->-r requirements.txt (line 8))\n",
      "  Downloading audformat-1.1.2-py3-none-any.whl.metadata (4.6 kB)\n",
      "Collecting audiofile>=1.3.0 (from audinterface>=0.7.0->opensmile->-r requirements.txt (line 8))\n",
      "  Downloading audiofile-1.4.0-py3-none-any.whl.metadata (4.9 kB)\n",
      "Collecting audmath>=1.3.0 (from audinterface>=0.7.0->opensmile->-r requirements.txt (line 8))\n",
      "  Downloading audmath-1.4.0-py3-none-any.whl.metadata (3.7 kB)\n",
      "Collecting audresample<2.0.0,>=1.1.0 (from audinterface>=0.7.0->opensmile->-r requirements.txt (line 8))\n",
      "  Downloading audresample-1.3.3-py3-none-manylinux_2_17_x86_64.whl.metadata (4.4 kB)\n",
      "Requirement already satisfied: importlib-metadata>=4.8.0 in /home/ec2-user/anaconda3/envs/python3/lib/python3.10/site-packages (from audobject>=0.6.1->opensmile->-r requirements.txt (line 8)) (6.11.0)\n",
      "Collecting oyaml (from audobject>=0.6.1->opensmile->-r requirements.txt (line 8))\n",
      "  Downloading oyaml-1.0-py2.py3-none-any.whl.metadata (1.2 kB)\n",
      "Requirement already satisfied: packaging in /home/ec2-user/anaconda3/envs/python3/lib/python3.10/site-packages (from audobject>=0.6.1->opensmile->-r requirements.txt (line 8)) (21.3)\n",
      "Requirement already satisfied: llvmlite<0.43,>=0.42.0dev0 in /home/ec2-user/anaconda3/envs/python3/lib/python3.10/site-packages (from numba>=0.51.0->librosa->-r requirements.txt (line 5)) (0.42.0)\n",
      "Requirement already satisfied: platformdirs>=2.5.0 in /home/ec2-user/anaconda3/envs/python3/lib/python3.10/site-packages (from pooch>=1.0->librosa->-r requirements.txt (line 5)) (4.2.0)\n",
      "Requirement already satisfied: requests>=2.19.0 in /home/ec2-user/anaconda3/envs/python3/lib/python3.10/site-packages (from pooch>=1.0->librosa->-r requirements.txt (line 5)) (2.31.0)\n",
      "Requirement already satisfied: six>=1.5 in /home/ec2-user/anaconda3/envs/python3/lib/python3.10/site-packages (from python-dateutil>=2.8.2->pandas->-r requirements.txt (line 7)) (1.16.0)\n",
      "Requirement already satisfied: cffi>=1.0 in /home/ec2-user/anaconda3/envs/python3/lib/python3.10/site-packages (from soundfile>=0.12.1->librosa->-r requirements.txt (line 5)) (1.16.0)\n",
      "Collecting iso-639 (from audformat<2.0.0,>=1.0.1->audinterface>=0.7.0->opensmile->-r requirements.txt (line 8))\n",
      "  Downloading iso-639-0.4.5.tar.gz (167 kB)\n",
      "\u001b[2K     \u001b[90m━━━━━━━━━━━━━━━━━━━━━━━━━━━━━━━━━━━━━━\u001b[0m \u001b[32m167.4/167.4 kB\u001b[0m \u001b[31m25.5 MB/s\u001b[0m eta \u001b[36m0:00:00\u001b[0m\n",
      "\u001b[?25h  Preparing metadata (setup.py) ... \u001b[?25ldone\n",
      "\u001b[?25hCollecting iso3166 (from audformat<2.0.0,>=1.0.1->audinterface>=0.7.0->opensmile->-r requirements.txt (line 8))\n",
      "  Downloading iso3166-2.1.1-py3-none-any.whl.metadata (6.6 kB)\n",
      "Requirement already satisfied: pyyaml>=5.4.1 in /home/ec2-user/anaconda3/envs/python3/lib/python3.10/site-packages (from audformat<2.0.0,>=1.0.1->audinterface>=0.7.0->opensmile->-r requirements.txt (line 8)) (6.0.1)\n",
      "Requirement already satisfied: pycparser in /home/ec2-user/anaconda3/envs/python3/lib/python3.10/site-packages (from cffi>=1.0->soundfile>=0.12.1->librosa->-r requirements.txt (line 5)) (2.21)\n",
      "Requirement already satisfied: zipp>=0.5 in /home/ec2-user/anaconda3/envs/python3/lib/python3.10/site-packages (from importlib-metadata>=4.8.0->audobject>=0.6.1->opensmile->-r requirements.txt (line 8)) (3.17.0)\n",
      "Requirement already satisfied: pyparsing!=3.0.5,>=2.0.2 in /home/ec2-user/anaconda3/envs/python3/lib/python3.10/site-packages (from packaging->audobject>=0.6.1->opensmile->-r requirements.txt (line 8)) (3.1.1)\n",
      "Requirement already satisfied: charset-normalizer<4,>=2 in /home/ec2-user/anaconda3/envs/python3/lib/python3.10/site-packages (from requests>=2.19.0->pooch>=1.0->librosa->-r requirements.txt (line 5)) (3.3.2)\n",
      "Requirement already satisfied: idna<4,>=2.5 in /home/ec2-user/anaconda3/envs/python3/lib/python3.10/site-packages (from requests>=2.19.0->pooch>=1.0->librosa->-r requirements.txt (line 5)) (3.6)\n",
      "Requirement already satisfied: urllib3<3,>=1.21.1 in /home/ec2-user/anaconda3/envs/python3/lib/python3.10/site-packages (from requests>=2.19.0->pooch>=1.0->librosa->-r requirements.txt (line 5)) (2.0.7)\n",
      "Requirement already satisfied: certifi>=2017.4.17 in /home/ec2-user/anaconda3/envs/python3/lib/python3.10/site-packages (from requests>=2.19.0->pooch>=1.0->librosa->-r requirements.txt (line 5)) (2024.2.2)\n",
      "Downloading librosa-0.10.1-py3-none-any.whl (253 kB)\n",
      "\u001b[2K   \u001b[90m━━━━━━━━━━━━━━━━━━━━━━━━━━━━━━━━━━━━━━━━\u001b[0m \u001b[32m253.7/253.7 kB\u001b[0m \u001b[31m5.6 MB/s\u001b[0m eta \u001b[36m0:00:00\u001b[0mta \u001b[36m0:00:01\u001b[0m\n",
      "\u001b[?25hDownloading opensmile-2.5.0-py3-none-manylinux_2_17_x86_64.whl (996 kB)\n",
      "\u001b[2K   \u001b[90m━━━━━━━━━━━━━━━━━━━━━━━━━━━━━━━━━━━━━━━━\u001b[0m \u001b[32m996.2/996.2 kB\u001b[0m \u001b[31m9.2 MB/s\u001b[0m eta \u001b[36m0:00:00\u001b[0m:00:01\u001b[0m\n",
      "\u001b[?25hDownloading xgboost-2.0.3-py3-none-manylinux2014_x86_64.whl (297.1 MB)\n",
      "\u001b[2K   \u001b[90m━━━━━━━━━━━━━━━━━━━━━━━━━━━━━━━━━━━━━━━━\u001b[0m \u001b[32m297.1/297.1 MB\u001b[0m \u001b[31m2.5 MB/s\u001b[0m eta \u001b[36m0:00:00\u001b[0m:00:01\u001b[0m00:01\u001b[0m\n",
      "\u001b[?25hDownloading audinterface-1.2.1-py3-none-any.whl (66 kB)\n",
      "\u001b[2K   \u001b[90m━━━━━━━━━━━━━━━━━━━━━━━━━━━━━━━━━━━━━━━━\u001b[0m \u001b[32m66.8/66.8 kB\u001b[0m \u001b[31m9.3 MB/s\u001b[0m eta \u001b[36m0:00:00\u001b[0m\n",
      "\u001b[?25hDownloading audioread-3.0.1-py3-none-any.whl (23 kB)\n",
      "Downloading audobject-0.7.11-py3-none-any.whl (43 kB)\n",
      "\u001b[2K   \u001b[90m━━━━━━━━━━━━━━━━━━━━━━━━━━━━━━━━━━━━━━━━\u001b[0m \u001b[32m44.0/44.0 kB\u001b[0m \u001b[31m5.6 MB/s\u001b[0m eta \u001b[36m0:00:00\u001b[0m\n",
      "\u001b[?25hDownloading pooch-1.8.1-py3-none-any.whl (62 kB)\n",
      "\u001b[2K   \u001b[90m━━━━━━━━━━━━━━━━━━━━━━━━━━━━━━━━━━━━━━━━\u001b[0m \u001b[32m63.0/63.0 kB\u001b[0m \u001b[31m9.4 MB/s\u001b[0m eta \u001b[36m0:00:00\u001b[0m\n",
      "\u001b[?25hDownloading soundfile-0.12.1-py2.py3-none-manylinux_2_17_x86_64.whl (1.3 MB)\n",
      "\u001b[2K   \u001b[90m━━━━━━━━━━━━━━━━━━━━━━━━━━━━━━━━━━━━━━━━\u001b[0m \u001b[32m1.3/1.3 MB\u001b[0m \u001b[31m76.9 MB/s\u001b[0m eta \u001b[36m0:00:00\u001b[0m\n",
      "\u001b[?25hDownloading soxr-0.3.7-cp310-cp310-manylinux_2_17_x86_64.manylinux2014_x86_64.whl (1.2 MB)\n",
      "\u001b[2K   \u001b[90m━━━━━━━━━━━━━━━━━━━━━━━━━━━━━━━━━━━━━━━━\u001b[0m \u001b[32m1.2/1.2 MB\u001b[0m \u001b[31m15.3 MB/s\u001b[0m eta \u001b[36m0:00:00\u001b[0m:00:01\u001b[0m\n",
      "\u001b[?25hDownloading audeer-2.0.0-py3-none-any.whl (39 kB)\n",
      "Downloading audformat-1.1.2-py3-none-any.whl (140 kB)\n",
      "\u001b[2K   \u001b[90m━━━━━━━━━━━━━━━━━━━━━━━━━━━━━━━━━━━━━━━━\u001b[0m \u001b[32m140.9/140.9 kB\u001b[0m \u001b[31m27.0 MB/s\u001b[0m eta \u001b[36m0:00:00\u001b[0m\n",
      "\u001b[?25hDownloading audiofile-1.4.0-py3-none-any.whl (1.1 MB)\n",
      "\u001b[2K   \u001b[90m━━━━━━━━━━━━━━━━━━━━━━━━━━━━━━━━━━━━━━━━\u001b[0m \u001b[32m1.1/1.1 MB\u001b[0m \u001b[31m17.4 MB/s\u001b[0m eta \u001b[36m0:00:00\u001b[0m:00:01\u001b[0m\n",
      "\u001b[?25hDownloading audmath-1.4.0-py3-none-any.whl (23 kB)\n",
      "Downloading audresample-1.3.3-py3-none-manylinux_2_17_x86_64.whl (138 kB)\n",
      "\u001b[2K   \u001b[90m━━━━━━━━━━━━━━━━━━━━━━━━━━━━━━━━━━━━━━━━\u001b[0m \u001b[32m138.4/138.4 kB\u001b[0m \u001b[31m19.4 MB/s\u001b[0m eta \u001b[36m0:00:00\u001b[0m\n",
      "\u001b[?25hDownloading oyaml-1.0-py2.py3-none-any.whl (3.0 kB)\n",
      "Downloading iso3166-2.1.1-py3-none-any.whl (9.8 kB)\n",
      "Building wheels for collected packages: lightgbm, iso-639\n",
      "  Building wheel for lightgbm (pyproject.toml) ... \u001b[?25ldone\n",
      "\u001b[?25h  Created wheel for lightgbm: filename=lightgbm-4.3.0-py3-none-linux_x86_64.whl size=2461510 sha256=f127759216925e936a4c71d07d1c4027d644350ab710149807af51f966a31c41\n",
      "  Stored in directory: /home/ec2-user/.cache/pip/wheels/6b/92/ab/b7b5df76502b64443c1a830e5f7ec3cb66741313ddebb682aa\n",
      "  Building wheel for iso-639 (setup.py) ... \u001b[?25ldone\n",
      "\u001b[?25h  Created wheel for iso-639: filename=iso_639-0.4.5-py3-none-any.whl size=168840 sha256=6cd05c26d92c0a7ea695b91ed6f1dfd34b08e2593cf5699d53287a94186c4bb5\n",
      "  Stored in directory: /home/ec2-user/.cache/pip/wheels/d8/78/cc/5478ca3b1c3f602eae6f8cdbd78f909c0a0bfa0bbcb5c7771f\n",
      "Successfully built lightgbm iso-639\n",
      "Installing collected packages: iso-639, soxr, oyaml, iso3166, audresample, audmath, audioread, audeer, xgboost, soundfile, pooch, lightgbm, audobject, librosa, audiofile, audformat, audinterface, opensmile\n",
      "Successfully installed audeer-2.0.0 audformat-1.1.2 audinterface-1.2.1 audiofile-1.4.0 audioread-3.0.1 audmath-1.4.0 audobject-0.7.11 audresample-1.3.3 iso-639-0.4.5 iso3166-2.1.1 librosa-0.10.1 lightgbm-4.3.0 opensmile-2.5.0 oyaml-1.0 pooch-1.8.1 soundfile-0.12.1 soxr-0.3.7 xgboost-2.0.3\n",
      "Note: you may need to restart the kernel to use updated packages.\n"
     ]
    }
   ],
   "source": [
    "pip install -r requirements.txt"
   ]
  },
  {
   "cell_type": "code",
   "execution_count": 3,
   "id": "29ba829e-278c-41ba-80a9-42586f74a886",
   "metadata": {
    "tags": []
   },
   "outputs": [],
   "source": [
    "import os\n",
    "import pandas as pd\n",
    "import librosa\n",
    "import opensmile\n",
    "from tqdm import tqdm\n",
    "import numpy as np\n",
    "\n",
    "\n",
    "HOME_DIRECTORY = os.path.expanduser(\"~/SageMaker/VIP-Dementia\")\n",
    "RAW_DATA_DIR = os.path.join(HOME_DIRECTORY, 'data/raw')\n",
    "PROCESSED_DATA_DIR = os.path.join(HOME_DIRECTORY, 'data/processed')\n",
    "FEATURES_DIR = os.path.join(PROCESSED_DATA_DIR, 'features')\n",
    "LABELS_DIR = os.path.join(PROCESSED_DATA_DIR, 'labels')\n",
    "\n",
    "# Label mapping for binary classification\n",
    "label_dict = {'CN': 0, 'AD': 1}\n",
    "\n",
    "def get_features(audio_path, sample_rate=16000):\n",
    "    \"\"\"\n",
    "    Extract features for the entire audio file at a specified sampling rate.\n",
    "\n",
    "    :param audio_path: Path to the audio file.\n",
    "    :param sample_rate: Desired sampling rate (in Hz).\n",
    "    :return: DataFrame containing extracted features.\n",
    "    \"\"\"\n",
    "    smile = opensmile.Smile(\n",
    "        feature_set=opensmile.FeatureSet.eGeMAPS,\n",
    "        feature_level=opensmile.FeatureLevel.Functionals,\n",
    "    )\n",
    "\n",
    "    try:\n",
    "        # Load the entire audio file at the specified sampling rate (window size)\n",
    "        y, sr = librosa.load(audio_path, sr=sample_rate)\n",
    "        features_df = smile.process_signal(y, sr)\n",
    "        return features_df\n",
    "    except Exception as e:\n",
    "        print(f\"Error processing file {audio_path}: {e}\")\n",
    "        return pd.DataFrame()\n",
    "\n",
    "def load_audio_data(sample_rate=16000):\n",
    "    X, y = [], []\n",
    "    partitions = ['ad', 'cn']\n",
    "    total_ad_files = len([name for name in os.listdir(os.path.join(RAW_DATA_DIR, 'audio', 'ad')) if name.endswith('.wav')])\n",
    "    total_cn_files = len([name for name in os.listdir(os.path.join(RAW_DATA_DIR, 'audio', 'cn')) if name.endswith('.wav')])\n",
    "    total_files = total_ad_files + total_cn_files\n",
    "    processed_count = 0\n",
    "\n",
    "    for partition in partitions:\n",
    "        audio_dir = os.path.join(RAW_DATA_DIR, 'audio', partition)\n",
    "        audio_files = [os.path.join(audio_dir, f) for f in os.listdir(audio_dir) if f.endswith('.wav')]\n",
    "        \n",
    "        # tqdm to display progress\n",
    "        with tqdm(total=len(audio_files), desc=f\"Processing {partition.upper()} files\") as pbar:\n",
    "            for audio_path in audio_files:\n",
    "                features_df = get_features(audio_path, sample_rate)\n",
    "                if not features_df.empty:\n",
    "                    X.append(features_df)\n",
    "                    y.append(label_dict[partition.upper()])\n",
    "                processed_count += 1\n",
    "                pbar.update(1)\n",
    "\n",
    "    print(f\"\\nFinished loading audio data. Successfully processed {processed_count} audio files out of {total_files} files.\")\n",
    "    return X, y"
   ]
  },
  {
   "cell_type": "code",
   "execution_count": 19,
   "id": "7c3b9bfa-3ede-4c3a-aeaa-ed3639f1371c",
   "metadata": {
    "collapsed": true,
    "jupyter": {
     "outputs_hidden": true
    },
    "tags": []
   },
   "outputs": [
    {
     "name": "stderr",
     "output_type": "stream",
     "text": [
      "Processing AD files:   0%|          | 0/87 [00:00<?, ?it/s]/home/ec2-user/anaconda3/envs/python3/lib/python3.10/site-packages/opensmile/core/smile.py:251: UserWarning: Feature set 'FeatureSet.eGeMAPS' is deprecated, consider switching to 'FeatureSet.eGeMAPSv02'.\n",
      "  warnings.warn(\n",
      "Processing AD files:   1%|          | 1/87 [00:06<08:49,  6.16s/it]/home/ec2-user/anaconda3/envs/python3/lib/python3.10/site-packages/opensmile/core/smile.py:251: UserWarning: Feature set 'FeatureSet.eGeMAPS' is deprecated, consider switching to 'FeatureSet.eGeMAPSv02'.\n",
      "  warnings.warn(\n",
      "Processing AD files:   2%|▏         | 2/87 [00:10<06:50,  4.83s/it]/home/ec2-user/anaconda3/envs/python3/lib/python3.10/site-packages/opensmile/core/smile.py:251: UserWarning: Feature set 'FeatureSet.eGeMAPS' is deprecated, consider switching to 'FeatureSet.eGeMAPSv02'.\n",
      "  warnings.warn(\n",
      "Processing AD files:   3%|▎         | 3/87 [00:14<06:42,  4.79s/it]/home/ec2-user/anaconda3/envs/python3/lib/python3.10/site-packages/opensmile/core/smile.py:251: UserWarning: Feature set 'FeatureSet.eGeMAPS' is deprecated, consider switching to 'FeatureSet.eGeMAPSv02'.\n",
      "  warnings.warn(\n",
      "Processing AD files:   5%|▍         | 4/87 [00:17<05:14,  3.79s/it]/home/ec2-user/anaconda3/envs/python3/lib/python3.10/site-packages/opensmile/core/smile.py:251: UserWarning: Feature set 'FeatureSet.eGeMAPS' is deprecated, consider switching to 'FeatureSet.eGeMAPSv02'.\n",
      "  warnings.warn(\n",
      "Processing AD files:   6%|▌         | 5/87 [00:20<05:02,  3.69s/it]/home/ec2-user/anaconda3/envs/python3/lib/python3.10/site-packages/opensmile/core/smile.py:251: UserWarning: Feature set 'FeatureSet.eGeMAPS' is deprecated, consider switching to 'FeatureSet.eGeMAPSv02'.\n",
      "  warnings.warn(\n",
      "Processing AD files:   7%|▋         | 6/87 [00:24<04:57,  3.67s/it]/home/ec2-user/anaconda3/envs/python3/lib/python3.10/site-packages/opensmile/core/smile.py:251: UserWarning: Feature set 'FeatureSet.eGeMAPS' is deprecated, consider switching to 'FeatureSet.eGeMAPSv02'.\n",
      "  warnings.warn(\n",
      "Processing AD files:   8%|▊         | 7/87 [00:26<04:16,  3.20s/it]/home/ec2-user/anaconda3/envs/python3/lib/python3.10/site-packages/opensmile/core/smile.py:251: UserWarning: Feature set 'FeatureSet.eGeMAPS' is deprecated, consider switching to 'FeatureSet.eGeMAPSv02'.\n",
      "  warnings.warn(\n",
      "Processing AD files:   9%|▉         | 8/87 [00:30<04:22,  3.33s/it]/home/ec2-user/anaconda3/envs/python3/lib/python3.10/site-packages/opensmile/core/smile.py:251: UserWarning: Feature set 'FeatureSet.eGeMAPS' is deprecated, consider switching to 'FeatureSet.eGeMAPSv02'.\n",
      "  warnings.warn(\n",
      "Processing AD files:  10%|█         | 9/87 [00:34<04:35,  3.53s/it]/home/ec2-user/anaconda3/envs/python3/lib/python3.10/site-packages/opensmile/core/smile.py:251: UserWarning: Feature set 'FeatureSet.eGeMAPS' is deprecated, consider switching to 'FeatureSet.eGeMAPSv02'.\n",
      "  warnings.warn(\n",
      "Processing AD files:  11%|█▏        | 10/87 [00:40<05:32,  4.32s/it]/home/ec2-user/anaconda3/envs/python3/lib/python3.10/site-packages/opensmile/core/smile.py:251: UserWarning: Feature set 'FeatureSet.eGeMAPS' is deprecated, consider switching to 'FeatureSet.eGeMAPSv02'.\n",
      "  warnings.warn(\n",
      "Processing AD files:  13%|█▎        | 11/87 [00:42<04:52,  3.85s/it]/home/ec2-user/anaconda3/envs/python3/lib/python3.10/site-packages/opensmile/core/smile.py:251: UserWarning: Feature set 'FeatureSet.eGeMAPS' is deprecated, consider switching to 'FeatureSet.eGeMAPSv02'.\n",
      "  warnings.warn(\n",
      "Processing AD files:  14%|█▍        | 12/87 [00:44<04:04,  3.25s/it]/home/ec2-user/anaconda3/envs/python3/lib/python3.10/site-packages/opensmile/core/smile.py:251: UserWarning: Feature set 'FeatureSet.eGeMAPS' is deprecated, consider switching to 'FeatureSet.eGeMAPSv02'.\n",
      "  warnings.warn(\n",
      "Processing AD files:  15%|█▍        | 13/87 [00:46<03:27,  2.81s/it]/home/ec2-user/anaconda3/envs/python3/lib/python3.10/site-packages/opensmile/core/smile.py:251: UserWarning: Feature set 'FeatureSet.eGeMAPS' is deprecated, consider switching to 'FeatureSet.eGeMAPSv02'.\n",
      "  warnings.warn(\n",
      "Processing AD files:  16%|█▌        | 14/87 [00:49<03:32,  2.91s/it]/home/ec2-user/anaconda3/envs/python3/lib/python3.10/site-packages/opensmile/core/smile.py:251: UserWarning: Feature set 'FeatureSet.eGeMAPS' is deprecated, consider switching to 'FeatureSet.eGeMAPSv02'.\n",
      "  warnings.warn(\n",
      "Processing AD files:  17%|█▋        | 15/87 [00:53<03:38,  3.03s/it]/home/ec2-user/anaconda3/envs/python3/lib/python3.10/site-packages/opensmile/core/smile.py:251: UserWarning: Feature set 'FeatureSet.eGeMAPS' is deprecated, consider switching to 'FeatureSet.eGeMAPSv02'.\n",
      "  warnings.warn(\n",
      "Processing AD files:  18%|█▊        | 16/87 [00:54<03:10,  2.69s/it]/home/ec2-user/anaconda3/envs/python3/lib/python3.10/site-packages/opensmile/core/smile.py:251: UserWarning: Feature set 'FeatureSet.eGeMAPS' is deprecated, consider switching to 'FeatureSet.eGeMAPSv02'.\n",
      "  warnings.warn(\n",
      "Processing AD files:  20%|█▉        | 17/87 [01:03<05:09,  4.43s/it]/home/ec2-user/anaconda3/envs/python3/lib/python3.10/site-packages/opensmile/core/smile.py:251: UserWarning: Feature set 'FeatureSet.eGeMAPS' is deprecated, consider switching to 'FeatureSet.eGeMAPSv02'.\n",
      "  warnings.warn(\n",
      "Processing AD files:  21%|██        | 18/87 [01:06<04:31,  3.93s/it]/home/ec2-user/anaconda3/envs/python3/lib/python3.10/site-packages/opensmile/core/smile.py:251: UserWarning: Feature set 'FeatureSet.eGeMAPS' is deprecated, consider switching to 'FeatureSet.eGeMAPSv02'.\n",
      "  warnings.warn(\n",
      "Processing AD files:  22%|██▏       | 19/87 [01:08<03:51,  3.41s/it]/home/ec2-user/anaconda3/envs/python3/lib/python3.10/site-packages/opensmile/core/smile.py:251: UserWarning: Feature set 'FeatureSet.eGeMAPS' is deprecated, consider switching to 'FeatureSet.eGeMAPSv02'.\n",
      "  warnings.warn(\n",
      "Processing AD files:  23%|██▎       | 20/87 [01:10<03:20,  2.99s/it]/home/ec2-user/anaconda3/envs/python3/lib/python3.10/site-packages/opensmile/core/smile.py:251: UserWarning: Feature set 'FeatureSet.eGeMAPS' is deprecated, consider switching to 'FeatureSet.eGeMAPSv02'.\n",
      "  warnings.warn(\n",
      "Processing AD files:  24%|██▍       | 21/87 [01:12<03:00,  2.73s/it]/home/ec2-user/anaconda3/envs/python3/lib/python3.10/site-packages/opensmile/core/smile.py:251: UserWarning: Feature set 'FeatureSet.eGeMAPS' is deprecated, consider switching to 'FeatureSet.eGeMAPSv02'.\n",
      "  warnings.warn(\n",
      "Processing AD files:  25%|██▌       | 22/87 [01:17<03:48,  3.52s/it]/home/ec2-user/anaconda3/envs/python3/lib/python3.10/site-packages/opensmile/core/smile.py:251: UserWarning: Feature set 'FeatureSet.eGeMAPS' is deprecated, consider switching to 'FeatureSet.eGeMAPSv02'.\n",
      "  warnings.warn(\n",
      "Processing AD files:  26%|██▋       | 23/87 [01:19<03:09,  2.97s/it]/home/ec2-user/anaconda3/envs/python3/lib/python3.10/site-packages/opensmile/core/smile.py:251: UserWarning: Feature set 'FeatureSet.eGeMAPS' is deprecated, consider switching to 'FeatureSet.eGeMAPSv02'.\n",
      "  warnings.warn(\n",
      "Processing AD files:  28%|██▊       | 24/87 [01:21<02:39,  2.53s/it]/home/ec2-user/anaconda3/envs/python3/lib/python3.10/site-packages/opensmile/core/smile.py:251: UserWarning: Feature set 'FeatureSet.eGeMAPS' is deprecated, consider switching to 'FeatureSet.eGeMAPSv02'.\n",
      "  warnings.warn(\n",
      "Processing AD files:  29%|██▊       | 25/87 [01:22<02:22,  2.31s/it]/home/ec2-user/anaconda3/envs/python3/lib/python3.10/site-packages/opensmile/core/smile.py:251: UserWarning: Feature set 'FeatureSet.eGeMAPS' is deprecated, consider switching to 'FeatureSet.eGeMAPSv02'.\n",
      "  warnings.warn(\n",
      "Processing AD files:  30%|██▉       | 26/87 [01:26<02:43,  2.68s/it]/home/ec2-user/anaconda3/envs/python3/lib/python3.10/site-packages/opensmile/core/smile.py:251: UserWarning: Feature set 'FeatureSet.eGeMAPS' is deprecated, consider switching to 'FeatureSet.eGeMAPSv02'.\n",
      "  warnings.warn(\n",
      "Processing AD files:  31%|███       | 27/87 [01:31<03:30,  3.51s/it]/home/ec2-user/anaconda3/envs/python3/lib/python3.10/site-packages/opensmile/core/smile.py:251: UserWarning: Feature set 'FeatureSet.eGeMAPS' is deprecated, consider switching to 'FeatureSet.eGeMAPSv02'.\n",
      "  warnings.warn(\n",
      "Processing AD files:  32%|███▏      | 28/87 [01:34<03:15,  3.31s/it]/home/ec2-user/anaconda3/envs/python3/lib/python3.10/site-packages/opensmile/core/smile.py:251: UserWarning: Feature set 'FeatureSet.eGeMAPS' is deprecated, consider switching to 'FeatureSet.eGeMAPSv02'.\n",
      "  warnings.warn(\n",
      "Processing AD files:  33%|███▎      | 29/87 [01:37<03:04,  3.18s/it]/home/ec2-user/anaconda3/envs/python3/lib/python3.10/site-packages/opensmile/core/smile.py:251: UserWarning: Feature set 'FeatureSet.eGeMAPS' is deprecated, consider switching to 'FeatureSet.eGeMAPSv02'.\n",
      "  warnings.warn(\n",
      "Processing AD files:  34%|███▍      | 30/87 [01:39<02:40,  2.82s/it]/home/ec2-user/anaconda3/envs/python3/lib/python3.10/site-packages/opensmile/core/smile.py:251: UserWarning: Feature set 'FeatureSet.eGeMAPS' is deprecated, consider switching to 'FeatureSet.eGeMAPSv02'.\n",
      "  warnings.warn(\n",
      "Processing AD files:  36%|███▌      | 31/87 [01:42<02:36,  2.80s/it]/home/ec2-user/anaconda3/envs/python3/lib/python3.10/site-packages/opensmile/core/smile.py:251: UserWarning: Feature set 'FeatureSet.eGeMAPS' is deprecated, consider switching to 'FeatureSet.eGeMAPSv02'.\n",
      "  warnings.warn(\n",
      "Processing AD files:  37%|███▋      | 32/87 [01:45<02:39,  2.89s/it]/home/ec2-user/anaconda3/envs/python3/lib/python3.10/site-packages/opensmile/core/smile.py:251: UserWarning: Feature set 'FeatureSet.eGeMAPS' is deprecated, consider switching to 'FeatureSet.eGeMAPSv02'.\n",
      "  warnings.warn(\n",
      "Processing AD files:  38%|███▊      | 33/87 [01:48<02:46,  3.08s/it]/home/ec2-user/anaconda3/envs/python3/lib/python3.10/site-packages/opensmile/core/smile.py:251: UserWarning: Feature set 'FeatureSet.eGeMAPS' is deprecated, consider switching to 'FeatureSet.eGeMAPSv02'.\n",
      "  warnings.warn(\n",
      "Processing AD files:  39%|███▉      | 34/87 [01:55<03:31,  4.00s/it]/home/ec2-user/anaconda3/envs/python3/lib/python3.10/site-packages/opensmile/core/smile.py:251: UserWarning: Feature set 'FeatureSet.eGeMAPS' is deprecated, consider switching to 'FeatureSet.eGeMAPSv02'.\n",
      "  warnings.warn(\n",
      "Processing AD files:  40%|████      | 35/87 [01:57<03:05,  3.57s/it]/home/ec2-user/anaconda3/envs/python3/lib/python3.10/site-packages/opensmile/core/smile.py:251: UserWarning: Feature set 'FeatureSet.eGeMAPS' is deprecated, consider switching to 'FeatureSet.eGeMAPSv02'.\n",
      "  warnings.warn(\n",
      "Processing AD files:  41%|████▏     | 36/87 [02:02<03:21,  3.94s/it]/home/ec2-user/anaconda3/envs/python3/lib/python3.10/site-packages/opensmile/core/smile.py:251: UserWarning: Feature set 'FeatureSet.eGeMAPS' is deprecated, consider switching to 'FeatureSet.eGeMAPSv02'.\n",
      "  warnings.warn(\n",
      "Processing AD files:  43%|████▎     | 37/87 [02:04<02:41,  3.24s/it]/home/ec2-user/anaconda3/envs/python3/lib/python3.10/site-packages/opensmile/core/smile.py:251: UserWarning: Feature set 'FeatureSet.eGeMAPS' is deprecated, consider switching to 'FeatureSet.eGeMAPSv02'.\n",
      "  warnings.warn(\n",
      "Processing AD files:  44%|████▎     | 38/87 [02:08<03:02,  3.73s/it]/home/ec2-user/anaconda3/envs/python3/lib/python3.10/site-packages/opensmile/core/smile.py:251: UserWarning: Feature set 'FeatureSet.eGeMAPS' is deprecated, consider switching to 'FeatureSet.eGeMAPSv02'.\n",
      "  warnings.warn(\n",
      "Processing AD files:  45%|████▍     | 39/87 [02:13<03:09,  3.94s/it]/home/ec2-user/anaconda3/envs/python3/lib/python3.10/site-packages/opensmile/core/smile.py:251: UserWarning: Feature set 'FeatureSet.eGeMAPS' is deprecated, consider switching to 'FeatureSet.eGeMAPSv02'.\n",
      "  warnings.warn(\n",
      "Processing AD files:  46%|████▌     | 40/87 [02:15<02:42,  3.46s/it]/home/ec2-user/anaconda3/envs/python3/lib/python3.10/site-packages/opensmile/core/smile.py:251: UserWarning: Feature set 'FeatureSet.eGeMAPS' is deprecated, consider switching to 'FeatureSet.eGeMAPSv02'.\n",
      "  warnings.warn(\n",
      "Processing AD files:  47%|████▋     | 41/87 [02:19<02:46,  3.63s/it]/home/ec2-user/anaconda3/envs/python3/lib/python3.10/site-packages/opensmile/core/smile.py:251: UserWarning: Feature set 'FeatureSet.eGeMAPS' is deprecated, consider switching to 'FeatureSet.eGeMAPSv02'.\n",
      "  warnings.warn(\n",
      "Processing AD files:  48%|████▊     | 42/87 [02:22<02:33,  3.42s/it]/home/ec2-user/anaconda3/envs/python3/lib/python3.10/site-packages/opensmile/core/smile.py:251: UserWarning: Feature set 'FeatureSet.eGeMAPS' is deprecated, consider switching to 'FeatureSet.eGeMAPSv02'.\n",
      "  warnings.warn(\n",
      "Processing AD files:  49%|████▉     | 43/87 [02:25<02:28,  3.38s/it]/home/ec2-user/anaconda3/envs/python3/lib/python3.10/site-packages/opensmile/core/smile.py:251: UserWarning: Feature set 'FeatureSet.eGeMAPS' is deprecated, consider switching to 'FeatureSet.eGeMAPSv02'.\n",
      "  warnings.warn(\n",
      "Processing AD files:  51%|█████     | 44/87 [02:28<02:17,  3.19s/it]/home/ec2-user/anaconda3/envs/python3/lib/python3.10/site-packages/opensmile/core/smile.py:251: UserWarning: Feature set 'FeatureSet.eGeMAPS' is deprecated, consider switching to 'FeatureSet.eGeMAPSv02'.\n",
      "  warnings.warn(\n",
      "Processing AD files:  52%|█████▏    | 45/87 [02:29<01:49,  2.62s/it]/home/ec2-user/anaconda3/envs/python3/lib/python3.10/site-packages/opensmile/core/smile.py:251: UserWarning: Feature set 'FeatureSet.eGeMAPS' is deprecated, consider switching to 'FeatureSet.eGeMAPSv02'.\n",
      "  warnings.warn(\n",
      "Processing AD files:  53%|█████▎    | 46/87 [02:31<01:35,  2.33s/it]/home/ec2-user/anaconda3/envs/python3/lib/python3.10/site-packages/opensmile/core/smile.py:251: UserWarning: Feature set 'FeatureSet.eGeMAPS' is deprecated, consider switching to 'FeatureSet.eGeMAPSv02'.\n",
      "  warnings.warn(\n",
      "Processing AD files:  54%|█████▍    | 47/87 [02:33<01:30,  2.27s/it]/home/ec2-user/anaconda3/envs/python3/lib/python3.10/site-packages/opensmile/core/smile.py:251: UserWarning: Feature set 'FeatureSet.eGeMAPS' is deprecated, consider switching to 'FeatureSet.eGeMAPSv02'.\n",
      "  warnings.warn(\n",
      "Processing AD files:  55%|█████▌    | 48/87 [02:38<01:52,  2.89s/it]/home/ec2-user/anaconda3/envs/python3/lib/python3.10/site-packages/opensmile/core/smile.py:251: UserWarning: Feature set 'FeatureSet.eGeMAPS' is deprecated, consider switching to 'FeatureSet.eGeMAPSv02'.\n",
      "  warnings.warn(\n",
      "Processing AD files:  56%|█████▋    | 49/87 [02:41<01:59,  3.14s/it]/home/ec2-user/anaconda3/envs/python3/lib/python3.10/site-packages/opensmile/core/smile.py:251: UserWarning: Feature set 'FeatureSet.eGeMAPS' is deprecated, consider switching to 'FeatureSet.eGeMAPSv02'.\n",
      "  warnings.warn(\n",
      "Processing AD files:  57%|█████▋    | 50/87 [02:46<02:09,  3.49s/it]/home/ec2-user/anaconda3/envs/python3/lib/python3.10/site-packages/opensmile/core/smile.py:251: UserWarning: Feature set 'FeatureSet.eGeMAPS' is deprecated, consider switching to 'FeatureSet.eGeMAPSv02'.\n",
      "  warnings.warn(\n",
      "Processing AD files:  59%|█████▊    | 51/87 [02:48<01:59,  3.31s/it]/home/ec2-user/anaconda3/envs/python3/lib/python3.10/site-packages/opensmile/core/smile.py:251: UserWarning: Feature set 'FeatureSet.eGeMAPS' is deprecated, consider switching to 'FeatureSet.eGeMAPSv02'.\n",
      "  warnings.warn(\n",
      "Processing AD files:  60%|█████▉    | 52/87 [02:57<02:47,  4.78s/it]/home/ec2-user/anaconda3/envs/python3/lib/python3.10/site-packages/opensmile/core/smile.py:251: UserWarning: Feature set 'FeatureSet.eGeMAPS' is deprecated, consider switching to 'FeatureSet.eGeMAPSv02'.\n",
      "  warnings.warn(\n",
      "Processing AD files:  61%|██████    | 53/87 [02:59<02:14,  3.95s/it]/home/ec2-user/anaconda3/envs/python3/lib/python3.10/site-packages/opensmile/core/smile.py:251: UserWarning: Feature set 'FeatureSet.eGeMAPS' is deprecated, consider switching to 'FeatureSet.eGeMAPSv02'.\n",
      "  warnings.warn(\n",
      "Processing AD files:  62%|██████▏   | 54/87 [03:01<01:56,  3.54s/it]/home/ec2-user/anaconda3/envs/python3/lib/python3.10/site-packages/opensmile/core/smile.py:251: UserWarning: Feature set 'FeatureSet.eGeMAPS' is deprecated, consider switching to 'FeatureSet.eGeMAPSv02'.\n",
      "  warnings.warn(\n",
      "Processing AD files:  63%|██████▎   | 55/87 [03:03<01:38,  3.09s/it]/home/ec2-user/anaconda3/envs/python3/lib/python3.10/site-packages/opensmile/core/smile.py:251: UserWarning: Feature set 'FeatureSet.eGeMAPS' is deprecated, consider switching to 'FeatureSet.eGeMAPSv02'.\n",
      "  warnings.warn(\n",
      "Processing AD files:  64%|██████▍   | 56/87 [03:07<01:40,  3.23s/it]/home/ec2-user/anaconda3/envs/python3/lib/python3.10/site-packages/opensmile/core/smile.py:251: UserWarning: Feature set 'FeatureSet.eGeMAPS' is deprecated, consider switching to 'FeatureSet.eGeMAPSv02'.\n",
      "  warnings.warn(\n",
      "Processing AD files:  66%|██████▌   | 57/87 [03:10<01:37,  3.23s/it]/home/ec2-user/anaconda3/envs/python3/lib/python3.10/site-packages/opensmile/core/smile.py:251: UserWarning: Feature set 'FeatureSet.eGeMAPS' is deprecated, consider switching to 'FeatureSet.eGeMAPSv02'.\n",
      "  warnings.warn(\n",
      "Processing AD files:  67%|██████▋   | 58/87 [03:14<01:41,  3.51s/it]/home/ec2-user/anaconda3/envs/python3/lib/python3.10/site-packages/opensmile/core/smile.py:251: UserWarning: Feature set 'FeatureSet.eGeMAPS' is deprecated, consider switching to 'FeatureSet.eGeMAPSv02'.\n",
      "  warnings.warn(\n",
      "Processing AD files:  68%|██████▊   | 59/87 [03:17<01:28,  3.16s/it]/home/ec2-user/anaconda3/envs/python3/lib/python3.10/site-packages/opensmile/core/smile.py:251: UserWarning: Feature set 'FeatureSet.eGeMAPS' is deprecated, consider switching to 'FeatureSet.eGeMAPSv02'.\n",
      "  warnings.warn(\n",
      "Processing AD files:  69%|██████▉   | 60/87 [03:25<02:04,  4.59s/it]/home/ec2-user/anaconda3/envs/python3/lib/python3.10/site-packages/opensmile/core/smile.py:251: UserWarning: Feature set 'FeatureSet.eGeMAPS' is deprecated, consider switching to 'FeatureSet.eGeMAPSv02'.\n",
      "  warnings.warn(\n",
      "Processing AD files:  70%|███████   | 61/87 [03:33<02:30,  5.78s/it]/home/ec2-user/anaconda3/envs/python3/lib/python3.10/site-packages/opensmile/core/smile.py:251: UserWarning: Feature set 'FeatureSet.eGeMAPS' is deprecated, consider switching to 'FeatureSet.eGeMAPSv02'.\n",
      "  warnings.warn(\n",
      "Processing AD files:  71%|███████▏  | 62/87 [03:41<02:42,  6.49s/it]/home/ec2-user/anaconda3/envs/python3/lib/python3.10/site-packages/opensmile/core/smile.py:251: UserWarning: Feature set 'FeatureSet.eGeMAPS' is deprecated, consider switching to 'FeatureSet.eGeMAPSv02'.\n",
      "  warnings.warn(\n",
      "Processing AD files:  72%|███████▏  | 63/87 [03:44<02:09,  5.39s/it]/home/ec2-user/anaconda3/envs/python3/lib/python3.10/site-packages/opensmile/core/smile.py:251: UserWarning: Feature set 'FeatureSet.eGeMAPS' is deprecated, consider switching to 'FeatureSet.eGeMAPSv02'.\n",
      "  warnings.warn(\n",
      "Processing AD files:  74%|███████▎  | 64/87 [03:56<02:48,  7.34s/it]/home/ec2-user/anaconda3/envs/python3/lib/python3.10/site-packages/opensmile/core/smile.py:251: UserWarning: Feature set 'FeatureSet.eGeMAPS' is deprecated, consider switching to 'FeatureSet.eGeMAPSv02'.\n",
      "  warnings.warn(\n",
      "Processing AD files:  75%|███████▍  | 65/87 [04:03<02:36,  7.11s/it]/home/ec2-user/anaconda3/envs/python3/lib/python3.10/site-packages/opensmile/core/smile.py:251: UserWarning: Feature set 'FeatureSet.eGeMAPS' is deprecated, consider switching to 'FeatureSet.eGeMAPSv02'.\n",
      "  warnings.warn(\n",
      "Processing AD files:  76%|███████▌  | 66/87 [04:05<02:01,  5.81s/it]/home/ec2-user/anaconda3/envs/python3/lib/python3.10/site-packages/opensmile/core/smile.py:251: UserWarning: Feature set 'FeatureSet.eGeMAPS' is deprecated, consider switching to 'FeatureSet.eGeMAPSv02'.\n",
      "  warnings.warn(\n",
      "Processing AD files:  77%|███████▋  | 67/87 [04:08<01:35,  4.77s/it]/home/ec2-user/anaconda3/envs/python3/lib/python3.10/site-packages/opensmile/core/smile.py:251: UserWarning: Feature set 'FeatureSet.eGeMAPS' is deprecated, consider switching to 'FeatureSet.eGeMAPSv02'.\n",
      "  warnings.warn(\n",
      "Processing AD files:  78%|███████▊  | 68/87 [04:11<01:21,  4.26s/it]/home/ec2-user/anaconda3/envs/python3/lib/python3.10/site-packages/opensmile/core/smile.py:251: UserWarning: Feature set 'FeatureSet.eGeMAPS' is deprecated, consider switching to 'FeatureSet.eGeMAPSv02'.\n",
      "  warnings.warn(\n",
      "Processing AD files:  79%|███████▉  | 69/87 [04:13<01:08,  3.80s/it]/home/ec2-user/anaconda3/envs/python3/lib/python3.10/site-packages/opensmile/core/smile.py:251: UserWarning: Feature set 'FeatureSet.eGeMAPS' is deprecated, consider switching to 'FeatureSet.eGeMAPSv02'.\n",
      "  warnings.warn(\n",
      "Processing AD files:  80%|████████  | 70/87 [04:15<00:55,  3.25s/it]/home/ec2-user/anaconda3/envs/python3/lib/python3.10/site-packages/opensmile/core/smile.py:251: UserWarning: Feature set 'FeatureSet.eGeMAPS' is deprecated, consider switching to 'FeatureSet.eGeMAPSv02'.\n",
      "  warnings.warn(\n",
      "Processing AD files:  82%|████████▏ | 71/87 [04:20<00:59,  3.72s/it]/home/ec2-user/anaconda3/envs/python3/lib/python3.10/site-packages/opensmile/core/smile.py:251: UserWarning: Feature set 'FeatureSet.eGeMAPS' is deprecated, consider switching to 'FeatureSet.eGeMAPSv02'.\n",
      "  warnings.warn(\n",
      "Processing AD files:  83%|████████▎ | 72/87 [04:27<01:09,  4.60s/it]/home/ec2-user/anaconda3/envs/python3/lib/python3.10/site-packages/opensmile/core/smile.py:251: UserWarning: Feature set 'FeatureSet.eGeMAPS' is deprecated, consider switching to 'FeatureSet.eGeMAPSv02'.\n",
      "  warnings.warn(\n",
      "Processing AD files:  84%|████████▍ | 73/87 [04:30<00:59,  4.24s/it]/home/ec2-user/anaconda3/envs/python3/lib/python3.10/site-packages/opensmile/core/smile.py:251: UserWarning: Feature set 'FeatureSet.eGeMAPS' is deprecated, consider switching to 'FeatureSet.eGeMAPSv02'.\n",
      "  warnings.warn(\n",
      "Processing AD files:  85%|████████▌ | 74/87 [04:36<00:59,  4.58s/it]/home/ec2-user/anaconda3/envs/python3/lib/python3.10/site-packages/opensmile/core/smile.py:251: UserWarning: Feature set 'FeatureSet.eGeMAPS' is deprecated, consider switching to 'FeatureSet.eGeMAPSv02'.\n",
      "  warnings.warn(\n",
      "Processing AD files:  86%|████████▌ | 75/87 [04:38<00:46,  3.87s/it]/home/ec2-user/anaconda3/envs/python3/lib/python3.10/site-packages/opensmile/core/smile.py:251: UserWarning: Feature set 'FeatureSet.eGeMAPS' is deprecated, consider switching to 'FeatureSet.eGeMAPSv02'.\n",
      "  warnings.warn(\n",
      "Processing AD files:  87%|████████▋ | 76/87 [04:41<00:39,  3.63s/it]/home/ec2-user/anaconda3/envs/python3/lib/python3.10/site-packages/opensmile/core/smile.py:251: UserWarning: Feature set 'FeatureSet.eGeMAPS' is deprecated, consider switching to 'FeatureSet.eGeMAPSv02'.\n",
      "  warnings.warn(\n",
      "Processing AD files:  89%|████████▊ | 77/87 [04:44<00:35,  3.53s/it]/home/ec2-user/anaconda3/envs/python3/lib/python3.10/site-packages/opensmile/core/smile.py:251: UserWarning: Feature set 'FeatureSet.eGeMAPS' is deprecated, consider switching to 'FeatureSet.eGeMAPSv02'.\n",
      "  warnings.warn(\n",
      "Processing AD files:  90%|████████▉ | 78/87 [04:47<00:29,  3.25s/it]/home/ec2-user/anaconda3/envs/python3/lib/python3.10/site-packages/opensmile/core/smile.py:251: UserWarning: Feature set 'FeatureSet.eGeMAPS' is deprecated, consider switching to 'FeatureSet.eGeMAPSv02'.\n",
      "  warnings.warn(\n",
      "Processing AD files:  91%|█████████ | 79/87 [04:52<00:29,  3.74s/it]/home/ec2-user/anaconda3/envs/python3/lib/python3.10/site-packages/opensmile/core/smile.py:251: UserWarning: Feature set 'FeatureSet.eGeMAPS' is deprecated, consider switching to 'FeatureSet.eGeMAPSv02'.\n",
      "  warnings.warn(\n",
      "Processing AD files:  92%|█████████▏| 80/87 [04:53<00:21,  3.05s/it]/home/ec2-user/anaconda3/envs/python3/lib/python3.10/site-packages/opensmile/core/smile.py:251: UserWarning: Feature set 'FeatureSet.eGeMAPS' is deprecated, consider switching to 'FeatureSet.eGeMAPSv02'.\n",
      "  warnings.warn(\n",
      "Processing AD files:  93%|█████████▎| 81/87 [04:58<00:21,  3.60s/it]/home/ec2-user/anaconda3/envs/python3/lib/python3.10/site-packages/opensmile/core/smile.py:251: UserWarning: Feature set 'FeatureSet.eGeMAPS' is deprecated, consider switching to 'FeatureSet.eGeMAPSv02'.\n",
      "  warnings.warn(\n",
      "Processing AD files:  94%|█████████▍| 82/87 [05:00<00:15,  3.06s/it]/home/ec2-user/anaconda3/envs/python3/lib/python3.10/site-packages/opensmile/core/smile.py:251: UserWarning: Feature set 'FeatureSet.eGeMAPS' is deprecated, consider switching to 'FeatureSet.eGeMAPSv02'.\n",
      "  warnings.warn(\n",
      "Processing AD files:  95%|█████████▌| 83/87 [05:03<00:12,  3.17s/it]/home/ec2-user/anaconda3/envs/python3/lib/python3.10/site-packages/opensmile/core/smile.py:251: UserWarning: Feature set 'FeatureSet.eGeMAPS' is deprecated, consider switching to 'FeatureSet.eGeMAPSv02'.\n",
      "  warnings.warn(\n",
      "Processing AD files:  97%|█████████▋| 84/87 [05:09<00:12,  4.08s/it]/home/ec2-user/anaconda3/envs/python3/lib/python3.10/site-packages/opensmile/core/smile.py:251: UserWarning: Feature set 'FeatureSet.eGeMAPS' is deprecated, consider switching to 'FeatureSet.eGeMAPSv02'.\n",
      "  warnings.warn(\n",
      "Processing AD files:  98%|█████████▊| 85/87 [05:13<00:07,  3.96s/it]/home/ec2-user/anaconda3/envs/python3/lib/python3.10/site-packages/opensmile/core/smile.py:251: UserWarning: Feature set 'FeatureSet.eGeMAPS' is deprecated, consider switching to 'FeatureSet.eGeMAPSv02'.\n",
      "  warnings.warn(\n",
      "Processing AD files:  99%|█████████▉| 86/87 [05:15<00:03,  3.39s/it]/home/ec2-user/anaconda3/envs/python3/lib/python3.10/site-packages/opensmile/core/smile.py:251: UserWarning: Feature set 'FeatureSet.eGeMAPS' is deprecated, consider switching to 'FeatureSet.eGeMAPSv02'.\n",
      "  warnings.warn(\n",
      "Processing AD files: 100%|██████████| 87/87 [05:18<00:00,  3.67s/it]\n",
      "Processing CN files:   0%|          | 0/79 [00:00<?, ?it/s]/home/ec2-user/anaconda3/envs/python3/lib/python3.10/site-packages/opensmile/core/smile.py:251: UserWarning: Feature set 'FeatureSet.eGeMAPS' is deprecated, consider switching to 'FeatureSet.eGeMAPSv02'.\n",
      "  warnings.warn(\n",
      "Processing CN files:   1%|▏         | 1/79 [00:03<04:13,  3.25s/it]/home/ec2-user/anaconda3/envs/python3/lib/python3.10/site-packages/opensmile/core/smile.py:251: UserWarning: Feature set 'FeatureSet.eGeMAPS' is deprecated, consider switching to 'FeatureSet.eGeMAPSv02'.\n",
      "  warnings.warn(\n",
      "Processing CN files:   3%|▎         | 2/79 [00:05<03:40,  2.86s/it]/home/ec2-user/anaconda3/envs/python3/lib/python3.10/site-packages/opensmile/core/smile.py:251: UserWarning: Feature set 'FeatureSet.eGeMAPS' is deprecated, consider switching to 'FeatureSet.eGeMAPSv02'.\n",
      "  warnings.warn(\n",
      "Processing CN files:   4%|▍         | 3/79 [00:10<04:24,  3.48s/it]/home/ec2-user/anaconda3/envs/python3/lib/python3.10/site-packages/opensmile/core/smile.py:251: UserWarning: Feature set 'FeatureSet.eGeMAPS' is deprecated, consider switching to 'FeatureSet.eGeMAPSv02'.\n",
      "  warnings.warn(\n",
      "Processing CN files:   5%|▌         | 4/79 [00:14<04:38,  3.72s/it]/home/ec2-user/anaconda3/envs/python3/lib/python3.10/site-packages/opensmile/core/smile.py:251: UserWarning: Feature set 'FeatureSet.eGeMAPS' is deprecated, consider switching to 'FeatureSet.eGeMAPSv02'.\n",
      "  warnings.warn(\n",
      "Processing CN files:   6%|▋         | 5/79 [00:17<04:16,  3.47s/it]/home/ec2-user/anaconda3/envs/python3/lib/python3.10/site-packages/opensmile/core/smile.py:251: UserWarning: Feature set 'FeatureSet.eGeMAPS' is deprecated, consider switching to 'FeatureSet.eGeMAPSv02'.\n",
      "  warnings.warn(\n",
      "Processing CN files:   8%|▊         | 6/79 [00:18<03:10,  2.61s/it]/home/ec2-user/anaconda3/envs/python3/lib/python3.10/site-packages/opensmile/core/smile.py:251: UserWarning: Feature set 'FeatureSet.eGeMAPS' is deprecated, consider switching to 'FeatureSet.eGeMAPSv02'.\n",
      "  warnings.warn(\n",
      "Processing CN files:   9%|▉         | 7/79 [00:20<03:01,  2.52s/it]/home/ec2-user/anaconda3/envs/python3/lib/python3.10/site-packages/opensmile/core/smile.py:251: UserWarning: Feature set 'FeatureSet.eGeMAPS' is deprecated, consider switching to 'FeatureSet.eGeMAPSv02'.\n",
      "  warnings.warn(\n",
      "Processing CN files:  10%|█         | 8/79 [00:21<02:33,  2.16s/it]/home/ec2-user/anaconda3/envs/python3/lib/python3.10/site-packages/opensmile/core/smile.py:251: UserWarning: Feature set 'FeatureSet.eGeMAPS' is deprecated, consider switching to 'FeatureSet.eGeMAPSv02'.\n",
      "  warnings.warn(\n",
      "Processing CN files:  11%|█▏        | 9/79 [00:24<02:47,  2.39s/it]/home/ec2-user/anaconda3/envs/python3/lib/python3.10/site-packages/opensmile/core/smile.py:251: UserWarning: Feature set 'FeatureSet.eGeMAPS' is deprecated, consider switching to 'FeatureSet.eGeMAPSv02'.\n",
      "  warnings.warn(\n",
      "Processing CN files:  13%|█▎        | 10/79 [00:26<02:40,  2.32s/it]/home/ec2-user/anaconda3/envs/python3/lib/python3.10/site-packages/opensmile/core/smile.py:251: UserWarning: Feature set 'FeatureSet.eGeMAPS' is deprecated, consider switching to 'FeatureSet.eGeMAPSv02'.\n",
      "  warnings.warn(\n",
      "Processing CN files:  14%|█▍        | 11/79 [00:30<02:56,  2.60s/it]/home/ec2-user/anaconda3/envs/python3/lib/python3.10/site-packages/opensmile/core/smile.py:251: UserWarning: Feature set 'FeatureSet.eGeMAPS' is deprecated, consider switching to 'FeatureSet.eGeMAPSv02'.\n",
      "  warnings.warn(\n",
      "Processing CN files:  15%|█▌        | 12/79 [00:32<02:39,  2.39s/it]/home/ec2-user/anaconda3/envs/python3/lib/python3.10/site-packages/opensmile/core/smile.py:251: UserWarning: Feature set 'FeatureSet.eGeMAPS' is deprecated, consider switching to 'FeatureSet.eGeMAPSv02'.\n",
      "  warnings.warn(\n",
      "Processing CN files:  16%|█▋        | 13/79 [00:35<02:55,  2.67s/it]/home/ec2-user/anaconda3/envs/python3/lib/python3.10/site-packages/opensmile/core/smile.py:251: UserWarning: Feature set 'FeatureSet.eGeMAPS' is deprecated, consider switching to 'FeatureSet.eGeMAPSv02'.\n",
      "  warnings.warn(\n",
      "Processing CN files:  18%|█▊        | 14/79 [00:37<02:51,  2.64s/it]/home/ec2-user/anaconda3/envs/python3/lib/python3.10/site-packages/opensmile/core/smile.py:251: UserWarning: Feature set 'FeatureSet.eGeMAPS' is deprecated, consider switching to 'FeatureSet.eGeMAPSv02'.\n",
      "  warnings.warn(\n",
      "Processing CN files:  19%|█▉        | 15/79 [00:40<02:46,  2.61s/it]/home/ec2-user/anaconda3/envs/python3/lib/python3.10/site-packages/opensmile/core/smile.py:251: UserWarning: Feature set 'FeatureSet.eGeMAPS' is deprecated, consider switching to 'FeatureSet.eGeMAPSv02'.\n",
      "  warnings.warn(\n",
      "Processing CN files:  20%|██        | 16/79 [00:43<02:49,  2.70s/it]/home/ec2-user/anaconda3/envs/python3/lib/python3.10/site-packages/opensmile/core/smile.py:251: UserWarning: Feature set 'FeatureSet.eGeMAPS' is deprecated, consider switching to 'FeatureSet.eGeMAPSv02'.\n",
      "  warnings.warn(\n",
      "Processing CN files:  22%|██▏       | 17/79 [00:49<03:48,  3.68s/it]/home/ec2-user/anaconda3/envs/python3/lib/python3.10/site-packages/opensmile/core/smile.py:251: UserWarning: Feature set 'FeatureSet.eGeMAPS' is deprecated, consider switching to 'FeatureSet.eGeMAPSv02'.\n",
      "  warnings.warn(\n",
      "Processing CN files:  23%|██▎       | 18/79 [00:53<03:54,  3.85s/it]/home/ec2-user/anaconda3/envs/python3/lib/python3.10/site-packages/opensmile/core/smile.py:251: UserWarning: Feature set 'FeatureSet.eGeMAPS' is deprecated, consider switching to 'FeatureSet.eGeMAPSv02'.\n",
      "  warnings.warn(\n",
      "Processing CN files:  24%|██▍       | 19/79 [00:55<03:10,  3.17s/it]/home/ec2-user/anaconda3/envs/python3/lib/python3.10/site-packages/opensmile/core/smile.py:251: UserWarning: Feature set 'FeatureSet.eGeMAPS' is deprecated, consider switching to 'FeatureSet.eGeMAPSv02'.\n",
      "  warnings.warn(\n",
      "Processing CN files:  25%|██▌       | 20/79 [00:58<03:12,  3.26s/it]/home/ec2-user/anaconda3/envs/python3/lib/python3.10/site-packages/opensmile/core/smile.py:251: UserWarning: Feature set 'FeatureSet.eGeMAPS' is deprecated, consider switching to 'FeatureSet.eGeMAPSv02'.\n",
      "  warnings.warn(\n",
      "Processing CN files:  27%|██▋       | 21/79 [01:00<02:43,  2.83s/it]/home/ec2-user/anaconda3/envs/python3/lib/python3.10/site-packages/opensmile/core/smile.py:251: UserWarning: Feature set 'FeatureSet.eGeMAPS' is deprecated, consider switching to 'FeatureSet.eGeMAPSv02'.\n",
      "  warnings.warn(\n",
      "Processing CN files:  28%|██▊       | 22/79 [01:02<02:25,  2.56s/it]/home/ec2-user/anaconda3/envs/python3/lib/python3.10/site-packages/opensmile/core/smile.py:251: UserWarning: Feature set 'FeatureSet.eGeMAPS' is deprecated, consider switching to 'FeatureSet.eGeMAPSv02'.\n",
      "  warnings.warn(\n",
      "Processing CN files:  29%|██▉       | 23/79 [01:07<03:03,  3.27s/it]/home/ec2-user/anaconda3/envs/python3/lib/python3.10/site-packages/opensmile/core/smile.py:251: UserWarning: Feature set 'FeatureSet.eGeMAPS' is deprecated, consider switching to 'FeatureSet.eGeMAPSv02'.\n",
      "  warnings.warn(\n",
      "Processing CN files:  30%|███       | 24/79 [01:10<03:00,  3.29s/it]/home/ec2-user/anaconda3/envs/python3/lib/python3.10/site-packages/opensmile/core/smile.py:251: UserWarning: Feature set 'FeatureSet.eGeMAPS' is deprecated, consider switching to 'FeatureSet.eGeMAPSv02'.\n",
      "  warnings.warn(\n",
      "Processing CN files:  32%|███▏      | 25/79 [01:14<03:00,  3.35s/it]/home/ec2-user/anaconda3/envs/python3/lib/python3.10/site-packages/opensmile/core/smile.py:251: UserWarning: Feature set 'FeatureSet.eGeMAPS' is deprecated, consider switching to 'FeatureSet.eGeMAPSv02'.\n",
      "  warnings.warn(\n",
      "Processing CN files:  33%|███▎      | 26/79 [01:16<02:49,  3.20s/it]/home/ec2-user/anaconda3/envs/python3/lib/python3.10/site-packages/opensmile/core/smile.py:251: UserWarning: Feature set 'FeatureSet.eGeMAPS' is deprecated, consider switching to 'FeatureSet.eGeMAPSv02'.\n",
      "  warnings.warn(\n",
      "Processing CN files:  34%|███▍      | 27/79 [01:18<02:27,  2.84s/it]/home/ec2-user/anaconda3/envs/python3/lib/python3.10/site-packages/opensmile/core/smile.py:251: UserWarning: Feature set 'FeatureSet.eGeMAPS' is deprecated, consider switching to 'FeatureSet.eGeMAPSv02'.\n",
      "  warnings.warn(\n",
      "Processing CN files:  35%|███▌      | 28/79 [01:22<02:29,  2.93s/it]/home/ec2-user/anaconda3/envs/python3/lib/python3.10/site-packages/opensmile/core/smile.py:251: UserWarning: Feature set 'FeatureSet.eGeMAPS' is deprecated, consider switching to 'FeatureSet.eGeMAPSv02'.\n",
      "  warnings.warn(\n",
      "Processing CN files:  37%|███▋      | 29/79 [01:26<02:50,  3.41s/it]/home/ec2-user/anaconda3/envs/python3/lib/python3.10/site-packages/opensmile/core/smile.py:251: UserWarning: Feature set 'FeatureSet.eGeMAPS' is deprecated, consider switching to 'FeatureSet.eGeMAPSv02'.\n",
      "  warnings.warn(\n",
      "Processing CN files:  38%|███▊      | 30/79 [01:28<02:30,  3.07s/it]/home/ec2-user/anaconda3/envs/python3/lib/python3.10/site-packages/opensmile/core/smile.py:251: UserWarning: Feature set 'FeatureSet.eGeMAPS' is deprecated, consider switching to 'FeatureSet.eGeMAPSv02'.\n",
      "  warnings.warn(\n",
      "Processing CN files:  39%|███▉      | 31/79 [01:32<02:38,  3.31s/it]/home/ec2-user/anaconda3/envs/python3/lib/python3.10/site-packages/opensmile/core/smile.py:251: UserWarning: Feature set 'FeatureSet.eGeMAPS' is deprecated, consider switching to 'FeatureSet.eGeMAPSv02'.\n",
      "  warnings.warn(\n",
      "Processing CN files:  41%|████      | 32/79 [01:34<02:15,  2.87s/it]/home/ec2-user/anaconda3/envs/python3/lib/python3.10/site-packages/opensmile/core/smile.py:251: UserWarning: Feature set 'FeatureSet.eGeMAPS' is deprecated, consider switching to 'FeatureSet.eGeMAPSv02'.\n",
      "  warnings.warn(\n",
      "Processing CN files:  42%|████▏     | 33/79 [01:37<02:18,  3.00s/it]/home/ec2-user/anaconda3/envs/python3/lib/python3.10/site-packages/opensmile/core/smile.py:251: UserWarning: Feature set 'FeatureSet.eGeMAPS' is deprecated, consider switching to 'FeatureSet.eGeMAPSv02'.\n",
      "  warnings.warn(\n",
      "Processing CN files:  43%|████▎     | 34/79 [01:40<02:15,  3.01s/it]/home/ec2-user/anaconda3/envs/python3/lib/python3.10/site-packages/opensmile/core/smile.py:251: UserWarning: Feature set 'FeatureSet.eGeMAPS' is deprecated, consider switching to 'FeatureSet.eGeMAPSv02'.\n",
      "  warnings.warn(\n",
      "Processing CN files:  44%|████▍     | 35/79 [01:43<02:04,  2.83s/it]/home/ec2-user/anaconda3/envs/python3/lib/python3.10/site-packages/opensmile/core/smile.py:251: UserWarning: Feature set 'FeatureSet.eGeMAPS' is deprecated, consider switching to 'FeatureSet.eGeMAPSv02'.\n",
      "  warnings.warn(\n",
      "Processing CN files:  46%|████▌     | 36/79 [01:47<02:13,  3.11s/it]/home/ec2-user/anaconda3/envs/python3/lib/python3.10/site-packages/opensmile/core/smile.py:251: UserWarning: Feature set 'FeatureSet.eGeMAPS' is deprecated, consider switching to 'FeatureSet.eGeMAPSv02'.\n",
      "  warnings.warn(\n",
      "Processing CN files:  47%|████▋     | 37/79 [01:49<02:05,  2.98s/it]/home/ec2-user/anaconda3/envs/python3/lib/python3.10/site-packages/opensmile/core/smile.py:251: UserWarning: Feature set 'FeatureSet.eGeMAPS' is deprecated, consider switching to 'FeatureSet.eGeMAPSv02'.\n",
      "  warnings.warn(\n",
      "Processing CN files:  48%|████▊     | 38/79 [01:51<01:50,  2.71s/it]/home/ec2-user/anaconda3/envs/python3/lib/python3.10/site-packages/opensmile/core/smile.py:251: UserWarning: Feature set 'FeatureSet.eGeMAPS' is deprecated, consider switching to 'FeatureSet.eGeMAPSv02'.\n",
      "  warnings.warn(\n",
      "Processing CN files:  49%|████▉     | 39/79 [01:54<01:47,  2.69s/it]/home/ec2-user/anaconda3/envs/python3/lib/python3.10/site-packages/opensmile/core/smile.py:251: UserWarning: Feature set 'FeatureSet.eGeMAPS' is deprecated, consider switching to 'FeatureSet.eGeMAPSv02'.\n",
      "  warnings.warn(\n",
      "Processing CN files:  51%|█████     | 40/79 [01:56<01:32,  2.37s/it]/home/ec2-user/anaconda3/envs/python3/lib/python3.10/site-packages/opensmile/core/smile.py:251: UserWarning: Feature set 'FeatureSet.eGeMAPS' is deprecated, consider switching to 'FeatureSet.eGeMAPSv02'.\n",
      "  warnings.warn(\n",
      "Processing CN files:  52%|█████▏    | 41/79 [01:58<01:28,  2.34s/it]/home/ec2-user/anaconda3/envs/python3/lib/python3.10/site-packages/opensmile/core/smile.py:251: UserWarning: Feature set 'FeatureSet.eGeMAPS' is deprecated, consider switching to 'FeatureSet.eGeMAPSv02'.\n",
      "  warnings.warn(\n",
      "Processing CN files:  53%|█████▎    | 42/79 [02:01<01:34,  2.54s/it]/home/ec2-user/anaconda3/envs/python3/lib/python3.10/site-packages/opensmile/core/smile.py:251: UserWarning: Feature set 'FeatureSet.eGeMAPS' is deprecated, consider switching to 'FeatureSet.eGeMAPSv02'.\n",
      "  warnings.warn(\n",
      "Processing CN files:  54%|█████▍    | 43/79 [02:03<01:24,  2.35s/it]/home/ec2-user/anaconda3/envs/python3/lib/python3.10/site-packages/opensmile/core/smile.py:251: UserWarning: Feature set 'FeatureSet.eGeMAPS' is deprecated, consider switching to 'FeatureSet.eGeMAPSv02'.\n",
      "  warnings.warn(\n",
      "Processing CN files:  56%|█████▌    | 44/79 [02:08<01:46,  3.04s/it]/home/ec2-user/anaconda3/envs/python3/lib/python3.10/site-packages/opensmile/core/smile.py:251: UserWarning: Feature set 'FeatureSet.eGeMAPS' is deprecated, consider switching to 'FeatureSet.eGeMAPSv02'.\n",
      "  warnings.warn(\n",
      "Processing CN files:  57%|█████▋    | 45/79 [02:11<01:49,  3.21s/it]/home/ec2-user/anaconda3/envs/python3/lib/python3.10/site-packages/opensmile/core/smile.py:251: UserWarning: Feature set 'FeatureSet.eGeMAPS' is deprecated, consider switching to 'FeatureSet.eGeMAPSv02'.\n",
      "  warnings.warn(\n",
      "Processing CN files:  58%|█████▊    | 46/79 [02:15<01:53,  3.42s/it]/home/ec2-user/anaconda3/envs/python3/lib/python3.10/site-packages/opensmile/core/smile.py:251: UserWarning: Feature set 'FeatureSet.eGeMAPS' is deprecated, consider switching to 'FeatureSet.eGeMAPSv02'.\n",
      "  warnings.warn(\n",
      "Processing CN files:  59%|█████▉    | 47/79 [02:18<01:46,  3.32s/it]/home/ec2-user/anaconda3/envs/python3/lib/python3.10/site-packages/opensmile/core/smile.py:251: UserWarning: Feature set 'FeatureSet.eGeMAPS' is deprecated, consider switching to 'FeatureSet.eGeMAPSv02'.\n",
      "  warnings.warn(\n",
      "Processing CN files:  61%|██████    | 48/79 [02:20<01:30,  2.92s/it]/home/ec2-user/anaconda3/envs/python3/lib/python3.10/site-packages/opensmile/core/smile.py:251: UserWarning: Feature set 'FeatureSet.eGeMAPS' is deprecated, consider switching to 'FeatureSet.eGeMAPSv02'.\n",
      "  warnings.warn(\n",
      "Processing CN files:  62%|██████▏   | 49/79 [02:24<01:39,  3.31s/it]/home/ec2-user/anaconda3/envs/python3/lib/python3.10/site-packages/opensmile/core/smile.py:251: UserWarning: Feature set 'FeatureSet.eGeMAPS' is deprecated, consider switching to 'FeatureSet.eGeMAPSv02'.\n",
      "  warnings.warn(\n",
      "Processing CN files:  63%|██████▎   | 50/79 [02:27<01:32,  3.20s/it]/home/ec2-user/anaconda3/envs/python3/lib/python3.10/site-packages/opensmile/core/smile.py:251: UserWarning: Feature set 'FeatureSet.eGeMAPS' is deprecated, consider switching to 'FeatureSet.eGeMAPSv02'.\n",
      "  warnings.warn(\n",
      "Processing CN files:  65%|██████▍   | 51/79 [02:30<01:24,  3.02s/it]/home/ec2-user/anaconda3/envs/python3/lib/python3.10/site-packages/opensmile/core/smile.py:251: UserWarning: Feature set 'FeatureSet.eGeMAPS' is deprecated, consider switching to 'FeatureSet.eGeMAPSv02'.\n",
      "  warnings.warn(\n",
      "Processing CN files:  66%|██████▌   | 52/79 [02:33<01:21,  3.02s/it]/home/ec2-user/anaconda3/envs/python3/lib/python3.10/site-packages/opensmile/core/smile.py:251: UserWarning: Feature set 'FeatureSet.eGeMAPS' is deprecated, consider switching to 'FeatureSet.eGeMAPSv02'.\n",
      "  warnings.warn(\n",
      "Processing CN files:  67%|██████▋   | 53/79 [02:36<01:17,  2.98s/it]/home/ec2-user/anaconda3/envs/python3/lib/python3.10/site-packages/opensmile/core/smile.py:251: UserWarning: Feature set 'FeatureSet.eGeMAPS' is deprecated, consider switching to 'FeatureSet.eGeMAPSv02'.\n",
      "  warnings.warn(\n",
      "Processing CN files:  68%|██████▊   | 54/79 [02:38<01:08,  2.74s/it]/home/ec2-user/anaconda3/envs/python3/lib/python3.10/site-packages/opensmile/core/smile.py:251: UserWarning: Feature set 'FeatureSet.eGeMAPS' is deprecated, consider switching to 'FeatureSet.eGeMAPSv02'.\n",
      "  warnings.warn(\n",
      "Processing CN files:  70%|██████▉   | 55/79 [02:42<01:18,  3.27s/it]/home/ec2-user/anaconda3/envs/python3/lib/python3.10/site-packages/opensmile/core/smile.py:251: UserWarning: Feature set 'FeatureSet.eGeMAPS' is deprecated, consider switching to 'FeatureSet.eGeMAPSv02'.\n",
      "  warnings.warn(\n",
      "Processing CN files:  71%|███████   | 56/79 [02:45<01:09,  3.02s/it]/home/ec2-user/anaconda3/envs/python3/lib/python3.10/site-packages/opensmile/core/smile.py:251: UserWarning: Feature set 'FeatureSet.eGeMAPS' is deprecated, consider switching to 'FeatureSet.eGeMAPSv02'.\n",
      "  warnings.warn(\n",
      "Processing CN files:  72%|███████▏  | 57/79 [02:48<01:03,  2.90s/it]/home/ec2-user/anaconda3/envs/python3/lib/python3.10/site-packages/opensmile/core/smile.py:251: UserWarning: Feature set 'FeatureSet.eGeMAPS' is deprecated, consider switching to 'FeatureSet.eGeMAPSv02'.\n",
      "  warnings.warn(\n",
      "Processing CN files:  73%|███████▎  | 58/79 [02:50<00:55,  2.63s/it]/home/ec2-user/anaconda3/envs/python3/lib/python3.10/site-packages/opensmile/core/smile.py:251: UserWarning: Feature set 'FeatureSet.eGeMAPS' is deprecated, consider switching to 'FeatureSet.eGeMAPSv02'.\n",
      "  warnings.warn(\n",
      "Processing CN files:  75%|███████▍  | 59/79 [02:52<00:51,  2.57s/it]/home/ec2-user/anaconda3/envs/python3/lib/python3.10/site-packages/opensmile/core/smile.py:251: UserWarning: Feature set 'FeatureSet.eGeMAPS' is deprecated, consider switching to 'FeatureSet.eGeMAPSv02'.\n",
      "  warnings.warn(\n",
      "Processing CN files:  76%|███████▌  | 60/79 [02:54<00:47,  2.50s/it]/home/ec2-user/anaconda3/envs/python3/lib/python3.10/site-packages/opensmile/core/smile.py:251: UserWarning: Feature set 'FeatureSet.eGeMAPS' is deprecated, consider switching to 'FeatureSet.eGeMAPSv02'.\n",
      "  warnings.warn(\n",
      "Processing CN files:  77%|███████▋  | 61/79 [02:56<00:39,  2.18s/it]/home/ec2-user/anaconda3/envs/python3/lib/python3.10/site-packages/opensmile/core/smile.py:251: UserWarning: Feature set 'FeatureSet.eGeMAPS' is deprecated, consider switching to 'FeatureSet.eGeMAPSv02'.\n",
      "  warnings.warn(\n",
      "Processing CN files:  78%|███████▊  | 62/79 [03:00<00:46,  2.72s/it]/home/ec2-user/anaconda3/envs/python3/lib/python3.10/site-packages/opensmile/core/smile.py:251: UserWarning: Feature set 'FeatureSet.eGeMAPS' is deprecated, consider switching to 'FeatureSet.eGeMAPSv02'.\n",
      "  warnings.warn(\n",
      "Processing CN files:  80%|███████▉  | 63/79 [03:02<00:43,  2.69s/it]/home/ec2-user/anaconda3/envs/python3/lib/python3.10/site-packages/opensmile/core/smile.py:251: UserWarning: Feature set 'FeatureSet.eGeMAPS' is deprecated, consider switching to 'FeatureSet.eGeMAPSv02'.\n",
      "  warnings.warn(\n",
      "Processing CN files:  81%|████████  | 64/79 [03:05<00:39,  2.63s/it]/home/ec2-user/anaconda3/envs/python3/lib/python3.10/site-packages/opensmile/core/smile.py:251: UserWarning: Feature set 'FeatureSet.eGeMAPS' is deprecated, consider switching to 'FeatureSet.eGeMAPSv02'.\n",
      "  warnings.warn(\n",
      "Processing CN files:  82%|████████▏ | 65/79 [03:06<00:30,  2.18s/it]/home/ec2-user/anaconda3/envs/python3/lib/python3.10/site-packages/opensmile/core/smile.py:251: UserWarning: Feature set 'FeatureSet.eGeMAPS' is deprecated, consider switching to 'FeatureSet.eGeMAPSv02'.\n",
      "  warnings.warn(\n",
      "Processing CN files:  84%|████████▎ | 66/79 [03:08<00:29,  2.29s/it]/home/ec2-user/anaconda3/envs/python3/lib/python3.10/site-packages/opensmile/core/smile.py:251: UserWarning: Feature set 'FeatureSet.eGeMAPS' is deprecated, consider switching to 'FeatureSet.eGeMAPSv02'.\n",
      "  warnings.warn(\n",
      "Processing CN files:  85%|████████▍ | 67/79 [03:11<00:29,  2.47s/it]/home/ec2-user/anaconda3/envs/python3/lib/python3.10/site-packages/opensmile/core/smile.py:251: UserWarning: Feature set 'FeatureSet.eGeMAPS' is deprecated, consider switching to 'FeatureSet.eGeMAPSv02'.\n",
      "  warnings.warn(\n",
      "Processing CN files:  86%|████████▌ | 68/79 [03:14<00:28,  2.55s/it]/home/ec2-user/anaconda3/envs/python3/lib/python3.10/site-packages/opensmile/core/smile.py:251: UserWarning: Feature set 'FeatureSet.eGeMAPS' is deprecated, consider switching to 'FeatureSet.eGeMAPSv02'.\n",
      "  warnings.warn(\n",
      "Processing CN files:  87%|████████▋ | 69/79 [03:15<00:21,  2.17s/it]/home/ec2-user/anaconda3/envs/python3/lib/python3.10/site-packages/opensmile/core/smile.py:251: UserWarning: Feature set 'FeatureSet.eGeMAPS' is deprecated, consider switching to 'FeatureSet.eGeMAPSv02'.\n",
      "  warnings.warn(\n",
      "Processing CN files:  89%|████████▊ | 70/79 [03:18<00:19,  2.17s/it]/home/ec2-user/anaconda3/envs/python3/lib/python3.10/site-packages/opensmile/core/smile.py:251: UserWarning: Feature set 'FeatureSet.eGeMAPS' is deprecated, consider switching to 'FeatureSet.eGeMAPSv02'.\n",
      "  warnings.warn(\n",
      "Processing CN files:  90%|████████▉ | 71/79 [03:20<00:18,  2.37s/it]/home/ec2-user/anaconda3/envs/python3/lib/python3.10/site-packages/opensmile/core/smile.py:251: UserWarning: Feature set 'FeatureSet.eGeMAPS' is deprecated, consider switching to 'FeatureSet.eGeMAPSv02'.\n",
      "  warnings.warn(\n",
      "Processing CN files:  91%|█████████ | 72/79 [03:23<00:16,  2.39s/it]/home/ec2-user/anaconda3/envs/python3/lib/python3.10/site-packages/opensmile/core/smile.py:251: UserWarning: Feature set 'FeatureSet.eGeMAPS' is deprecated, consider switching to 'FeatureSet.eGeMAPSv02'.\n",
      "  warnings.warn(\n",
      "Processing CN files:  92%|█████████▏| 73/79 [03:30<00:22,  3.67s/it]/home/ec2-user/anaconda3/envs/python3/lib/python3.10/site-packages/opensmile/core/smile.py:251: UserWarning: Feature set 'FeatureSet.eGeMAPS' is deprecated, consider switching to 'FeatureSet.eGeMAPSv02'.\n",
      "  warnings.warn(\n",
      "Processing CN files:  94%|█████████▎| 74/79 [03:32<00:16,  3.26s/it]/home/ec2-user/anaconda3/envs/python3/lib/python3.10/site-packages/opensmile/core/smile.py:251: UserWarning: Feature set 'FeatureSet.eGeMAPS' is deprecated, consider switching to 'FeatureSet.eGeMAPSv02'.\n",
      "  warnings.warn(\n",
      "Processing CN files:  95%|█████████▍| 75/79 [03:33<00:10,  2.64s/it]/home/ec2-user/anaconda3/envs/python3/lib/python3.10/site-packages/opensmile/core/smile.py:251: UserWarning: Feature set 'FeatureSet.eGeMAPS' is deprecated, consider switching to 'FeatureSet.eGeMAPSv02'.\n",
      "  warnings.warn(\n",
      "Processing CN files:  96%|█████████▌| 76/79 [03:36<00:08,  2.85s/it]/home/ec2-user/anaconda3/envs/python3/lib/python3.10/site-packages/opensmile/core/smile.py:251: UserWarning: Feature set 'FeatureSet.eGeMAPS' is deprecated, consider switching to 'FeatureSet.eGeMAPSv02'.\n",
      "  warnings.warn(\n",
      "Processing CN files:  97%|█████████▋| 77/79 [03:39<00:05,  2.77s/it]/home/ec2-user/anaconda3/envs/python3/lib/python3.10/site-packages/opensmile/core/smile.py:251: UserWarning: Feature set 'FeatureSet.eGeMAPS' is deprecated, consider switching to 'FeatureSet.eGeMAPSv02'.\n",
      "  warnings.warn(\n",
      "Processing CN files:  99%|█████████▊| 78/79 [03:40<00:02,  2.24s/it]/home/ec2-user/anaconda3/envs/python3/lib/python3.10/site-packages/opensmile/core/smile.py:251: UserWarning: Feature set 'FeatureSet.eGeMAPS' is deprecated, consider switching to 'FeatureSet.eGeMAPSv02'.\n",
      "  warnings.warn(\n",
      "Processing CN files: 100%|██████████| 79/79 [03:41<00:00,  2.81s/it]"
     ]
    },
    {
     "name": "stdout",
     "output_type": "stream",
     "text": [
      "\n",
      "Finished loading audio data. Successfully processed 166 audio files out of 166 files.\n"
     ]
    },
    {
     "name": "stderr",
     "output_type": "stream",
     "text": [
      "\n"
     ]
    }
   ],
   "source": [
    "X, y = load_audio_data(sample_rate=16000) "
   ]
  },
  {
   "cell_type": "code",
   "execution_count": 58,
   "id": "d2737b66-d0f7-4132-99e5-71b37a95e48e",
   "metadata": {
    "tags": []
   },
   "outputs": [
    {
     "ename": "NameError",
     "evalue": "name 'X' is not defined",
     "output_type": "error",
     "traceback": [
      "\u001b[0;31m---------------------------------------------------------------------------\u001b[0m",
      "\u001b[0;31mNameError\u001b[0m                                 Traceback (most recent call last)",
      "Cell \u001b[0;32mIn[58], line 4\u001b[0m\n\u001b[1;32m      1\u001b[0m \u001b[38;5;28;01mfrom\u001b[39;00m \u001b[38;5;21;01msklearn\u001b[39;00m\u001b[38;5;21;01m.\u001b[39;00m\u001b[38;5;21;01mmodel_selection\u001b[39;00m \u001b[38;5;28;01mimport\u001b[39;00m train_test_split\n\u001b[1;32m      3\u001b[0m \u001b[38;5;66;03m# Tests to make sure data was split correctly\u001b[39;00m\n\u001b[0;32m----> 4\u001b[0m features_df \u001b[38;5;241m=\u001b[39m pd\u001b[38;5;241m.\u001b[39mconcat(\u001b[43mX\u001b[49m, ignore_index\u001b[38;5;241m=\u001b[39m\u001b[38;5;28;01mTrue\u001b[39;00m)\n\u001b[1;32m      5\u001b[0m labels_series \u001b[38;5;241m=\u001b[39m pd\u001b[38;5;241m.\u001b[39mSeries(y)\n\u001b[1;32m      6\u001b[0m \u001b[38;5;28mprint\u001b[39m(\u001b[38;5;124mf\u001b[39m\u001b[38;5;124m'\u001b[39m\u001b[38;5;130;01m\\n\u001b[39;00m\u001b[38;5;124mAudio samples represented: \u001b[39m\u001b[38;5;132;01m{\u001b[39;00m\u001b[38;5;28mlen\u001b[39m(X)\u001b[38;5;132;01m}\u001b[39;00m\u001b[38;5;124m'\u001b[39m)\n",
      "\u001b[0;31mNameError\u001b[0m: name 'X' is not defined"
     ]
    }
   ],
   "source": [
    "from sklearn.model_selection import train_test_split\n",
    "\n",
    "# Tests to make sure data was split correctly\n",
    "features_df = pd.concat(X, ignore_index=True)\n",
    "labels_series = pd.Series(y)\n",
    "print(f'\\nAudio samples represented: {len(X)}')\n",
    "print(f'Numerical features extracted per sample: {features_df.shape[1]}')\n",
    "print(f'Unique labels in dataset: {labels_series.unique()}')\n",
    "\n",
    "X = features_df\n",
    "y = labels_series\n",
    "\n",
    "X_train, X_temp, y_train, y_temp = train_test_split(X, y, test_size=0.2, random_state=42, stratify=y)\n",
    "X_valid, X_test, y_valid, y_test = train_test_split(X_temp, y_temp, test_size=0.5, random_state=42, stratify=y_temp)\n",
    "\n",
    "# Display sizes of the datasets\n",
    "print(f\"Training set size: {X_train.shape[0]}\")\n",
    "print(f\"Validation set size: {X_valid.shape[0]}\")\n",
    "print(f\"Test set size: {X_test.shape[0]}\")"
   ]
  },
  {
   "cell_type": "code",
   "execution_count": 23,
   "id": "e5690ac3-8030-4d46-b16e-e3034354a483",
   "metadata": {
    "tags": []
   },
   "outputs": [
    {
     "name": "stdout",
     "output_type": "stream",
     "text": [
      "Saved X_train.npy to /home/ec2-user/SageMaker/VIP-Dementia/data/processed\n",
      "Saved X_valid.npy to /home/ec2-user/SageMaker/VIP-Dementia/data/processed\n",
      "Saved X_test.npy to /home/ec2-user/SageMaker/VIP-Dementia/data/processed\n",
      "Saved y_train.npy to /home/ec2-user/SageMaker/VIP-Dementia/data/processed\n",
      "Saved y_valid.npy to /home/ec2-user/SageMaker/VIP-Dementia/data/processed\n",
      "Saved y_test.npy to /home/ec2-user/SageMaker/VIP-Dementia/data/processed\n"
     ]
    }
   ],
   "source": [
    "import numpy as np\n",
    "\n",
    "# Directory to save files\n",
    "HOME_DIRECTORY = os.path.expanduser(\"~/SageMaker/VIP-Dementia\")\n",
    "save_dir = os.path.join(HOME_DIRECTORY, 'data/processed')\n",
    "\n",
    "# Function to save datasets\n",
    "def save_dataset(filename, dataset):\n",
    "    path = os.path.join(save_dir, filename)\n",
    "    np.save(path, dataset)\n",
    "    print(f\"Saved {filename} to {save_dir}\")\n",
    "\n",
    "# Saving each dataset\n",
    "save_dataset('X_train.npy', X_train)\n",
    "save_dataset('X_valid.npy', X_valid)\n",
    "save_dataset('X_test.npy', X_test)\n",
    "save_dataset('y_train.npy', y_train)\n",
    "save_dataset('y_valid.npy', y_valid)\n",
    "save_dataset('y_test.npy', y_test)"
   ]
  },
  {
   "cell_type": "markdown",
   "id": "5253519c-283c-4462-9815-1d9cf516c2ae",
   "metadata": {
    "tags": []
   },
   "source": [
    "## Light GBM Analysis"
   ]
  },
  {
   "cell_type": "code",
   "execution_count": 19,
   "id": "7722c511-95f5-4f61-b946-8052eab5b4f9",
   "metadata": {
    "tags": []
   },
   "outputs": [
    {
     "data": {
      "image/png": "[encoded data removed]",
      "text/plain": [
       "<Figure size 800x600 with 2 Axes>"
      ]
     },
     "metadata": {},
     "output_type": "display_data"
    }
   ],
   "source": [
    "import numpy as np\n",
    "import matplotlib.pyplot as plt\n",
    "from sklearn.metrics import confusion_matrix\n",
    "import seaborn as sns\n",
    "import lightgbm as lgb # light XGBoost package\n",
    "\n",
    "def plot_confusion_matrix(clf, X_test, y_test, class_names):\n",
    "    y_pred = clf.predict(X_test)\n",
    "    cm = confusion_matrix(y_test, y_pred)\n",
    "    cm_percent = cm.astype('float') / cm.sum(axis=1)[:, np.newaxis]  # Convert counts to percentage\n",
    "    \n",
    "    fig, ax = plt.subplots(figsize=(8, 6))  # Larger figure size for better readability\n",
    "    sns.heatmap(cm_percent, annot=True, fmt=\".2%\", cmap='Blues', xticklabels=class_names, yticklabels=class_names, ax=ax)\n",
    "    plt.title(f'Confusion Matrix for {type(clf).__name__}')\n",
    "    plt.xlabel('Predicted')\n",
    "    plt.ylabel('True')\n",
    "\n",
    "    plt.show()\n",
    "\n",
    "# Example usage with class names\n",
    "class_names = ['CN', 'AD']  # Ensure class names are in the order of your actual labels\n",
    "plot_confusion_matrix(lgb.LGBMClassifier(verbosity=-1).fit(X_train, y_train), X_test, y_test, class_names)"
   ]
  },
  {
   "cell_type": "code",
   "execution_count": 20,
   "id": "71a242e0-1ede-4110-8f3d-9789add9bb0a",
   "metadata": {
    "tags": []
   },
   "outputs": [
    {
     "name": "stdout",
     "output_type": "stream",
     "text": [
      "Default LGBM's accuracy on training set is 100.00%\n",
      "Default LGBM's accuracy on test set is 82.35%\n",
      "\n",
      "Tuned LGBM's accuracy on training set is 100.00%\n",
      "Tuned LGBM's accuracy on test set is 64.71%\n"
     ]
    }
   ],
   "source": [
    "####### Default LGBM ########\n",
    "model = lgb.LGBMClassifier(\n",
    "    verbosity=-1,\n",
    "    random_state=69\n",
    ")\n",
    "\n",
    "\n",
    "model.fit(X_train, y_train)\n",
    "\n",
    "print(f'Default LGBM\\'s accuracy on training set is {100*model.score(X_train, y_train):.2f}%')\n",
    "print(f'Default LGBM\\'s accuracy on test set is {100*model.score(X_test, y_test):.2f}%\\n')\n",
    "\n",
    "\n",
    "########## Tuned LGBM #######\n",
    "\n",
    "params = {\n",
    "    'application': 'binary', # for binary classification\n",
    "#     'num_class' : 1, # used for multi-classes\n",
    "    'boosting': 'gbdt', # traditional gradient boosting decision tree\n",
    "    'num_iterations': 100, \n",
    "    'learning_rate': 0.05,\n",
    "    'num_leaves': 62,\n",
    "    'device': 'cpu', # you can use GPU to achieve faster learning\n",
    "    'max_depth': -1, # <0 means no limit\n",
    "    'max_bin': 510, # Small number of bins may reduce training accuracy but can deal with over-fitting\n",
    "    'lambda_l1': 5, # L1 regularization\n",
    "    'lambda_l2': 10, # L2 regularization\n",
    "    'metric' : 'binary_error',\n",
    "    'subsample_for_bin': 200, # number of samples for constructing bins\n",
    "    'subsample': 1, # subsample ratio of the training instance\n",
    "    'colsample_bytree': 0.8, # subsample ratio of columns when constructing the tree\n",
    "    'min_split_gain': 0.5, # minimum loss reduction required to make further partition on a leaf node of the tree\n",
    "    'min_child_weight': 1, # minimum sum of instance weight (hessian) needed in a leaf\n",
    "    'min_child_samples': 5# minimum number of data needed in a leaf\n",
    "}\n",
    "\n",
    "# Initiate classifier to use\n",
    "tuned_model = lgb.LGBMClassifier(boosting_type= 'gbdt', \n",
    "          objective = 'binary', \n",
    "          n_jobs = 5, \n",
    "          silent = True,\n",
    "          max_depth = params['max_depth'],\n",
    "          max_bin = params['max_bin'], \n",
    "          subsample_for_bin = params['subsample_for_bin'],\n",
    "          subsample = params['subsample'], \n",
    "          min_split_gain = params['min_split_gain'], \n",
    "          min_child_weight = params['min_child_weight'], \n",
    "          min_child_samples = params['min_child_samples'],\n",
    "          verbosity=-1)\n",
    "\n",
    "tuned_model.fit(X_train, y_train)\n",
    "\n",
    "print(f'Tuned LGBM\\'s accuracy on training set is {100*tuned_model.score(X_train, y_train):.2f}%')\n",
    "print(f'Tuned LGBM\\'s accuracy on test set is {100*tuned_model.score(X_test, y_test):.2f}%')"
   ]
  },
  {
   "cell_type": "code",
   "execution_count": 22,
   "id": "ddded95e-0da9-4961-9fd4-b0dc82380af4",
   "metadata": {
    "tags": []
   },
   "outputs": [
    {
     "name": "stdout",
     "output_type": "stream",
     "text": [
      "Fitting 4 folds for each of 3456 candidates, totalling 13824 fits\n",
      "{'boosting_type': 'gbdt', 'colsample_bytree': 0.64, 'learning_rate': 0.01, 'max_bin': 255, 'n_estimators': 16, 'num_leaves': 6, 'objective': 'binary', 'random_state': 500, 'reg_alpha': 1, 'reg_lambda': 1.2, 'subsample': 0.7}\n",
      "0.6515151515151515\n"
     ]
    }
   ],
   "source": [
    "from sklearn.model_selection import GridSearchCV\n",
    "\n",
    "gridParams = {\n",
    "    'learning_rate': [0.005, 0.01],\n",
    "    'n_estimators': [8,16,24],\n",
    "    'num_leaves': [6,8,12,16], # large num_leaves helps improve accuracy but might lead to over-fitting\n",
    "    'boosting_type' : ['gbdt', 'dart'], # for better accuracy -> try dart\n",
    "    'objective' : ['binary'],\n",
    "    'max_bin':[255, 510], # large max_bin helps improve accuracy but might slow down training progress\n",
    "    'random_state' : [500],\n",
    "    'colsample_bytree' : [0.64, 0.65, 0.66],\n",
    "    'subsample' : [0.7,0.75],\n",
    "    'reg_alpha' : [1,1.2],\n",
    "    'reg_lambda' : [1,1.2,1.4],\n",
    "    }\n",
    "\n",
    "grid = GridSearchCV(model, gridParams, verbose=1, cv=4, n_jobs=-1)\n",
    "# Run the grid\n",
    "grid.fit(X_train, y_train)\n",
    "\n",
    "# Print the best parameters found\n",
    "print(grid.best_params_)\n",
    "print(grid.best_score_)"
   ]
  },
  {
   "cell_type": "code",
   "execution_count": 23,
   "id": "34a794f8-c1d1-48db-ac14-e0e4fe59e7f2",
   "metadata": {
    "tags": []
   },
   "outputs": [],
   "source": [
    "params['colsample_bytree'] = grid.best_params_['colsample_bytree']\n",
    "params['learning_rate'] = grid.best_params_['learning_rate'] \n",
    "params['max_bin'] = grid.best_params_['max_bin']\n",
    "params['num_leaves'] = grid.best_params_['num_leaves']\n",
    "params['reg_alpha'] = grid.best_params_['reg_alpha']\n",
    "params['reg_lambda'] = grid.best_params_['reg_lambda']\n",
    "params['subsample'] = grid.best_params_['subsample']"
   ]
  },
  {
   "cell_type": "code",
   "execution_count": 24,
   "id": "c56bcb21-3153-4b29-800b-6d414649a5f4",
   "metadata": {
    "tags": []
   },
   "outputs": [
    {
     "name": "stdout",
     "output_type": "stream",
     "text": [
      "Tuned LGBM's accuracy on training set is 100.00%\n",
      "Tuned LGBM's accuracy on test set is 82.35%\n"
     ]
    }
   ],
   "source": [
    "# Initiate classifier to use\n",
    "grid_model = lgb.LGBMClassifier(boosting_type= 'dart', \n",
    "          objective = 'binary', \n",
    "          n_jobs = 5, \n",
    "          silent = True,\n",
    "          max_depth = params['max_depth'],\n",
    "          max_bin = params['max_bin'], \n",
    "          subsample_for_bin = params['subsample_for_bin'],\n",
    "          subsample = params['subsample'], \n",
    "          min_split_gain = params['min_split_gain'], \n",
    "          min_child_weight = params['min_child_weight'], \n",
    "          min_child_samples = params['min_child_samples'],\n",
    "          verbosity=-1)\n",
    "\n",
    "grid_model.fit(X_train, y_train)\n",
    "\n",
    "print(f'Tuned LGBM\\'s accuracy on training set is {100*grid_model.score(X_train, y_train):.2f}%')\n",
    "print(f'Tuned LGBM\\'s accuracy on test set is {100*grid_model.score(X_test, y_test):.2f}%')"
   ]
  },
  {
   "cell_type": "markdown",
   "id": "e474fb80-afc7-4716-9daa-cf2082410845",
   "metadata": {
    "tags": []
   },
   "source": [
    "## Random Forest Grid Search"
   ]
  },
  {
   "cell_type": "code",
   "execution_count": 3,
   "id": "42b6ad0a-9fd7-4534-bbfe-ea9a41205b6d",
   "metadata": {
    "tags": []
   },
   "outputs": [
    {
     "name": "stdout",
     "output_type": "stream",
     "text": [
      "Best parameters: {'criterion': 'gini', 'max_depth': 7, 'max_features': 'sqrt', 'n_estimators': 200}\n"
     ]
    }
   ],
   "source": [
    "from sklearn.ensemble import RandomForestClassifier\n",
    "from sklearn.model_selection import GridSearchCV\n",
    "import numpy as np\n",
    "\n",
    "# Define the model and parameter grid\n",
    "rfc = RandomForestClassifier(random_state=42)\n",
    "param_grid = {\n",
    "    'n_estimators': [200, 500],\n",
    "    'max_features': ['sqrt', 'log2'],\n",
    "    'max_depth': [4, 5, 6, 7, 8],\n",
    "    'criterion': ['gini', 'entropy']\n",
    "}\n",
    "\n",
    "# Setup GridSearchCV\n",
    "CV_rfc = GridSearchCV(estimator=rfc, param_grid=param_grid, cv=5)\n",
    "CV_rfc.fit(X_train, y_train)\n",
    "\n",
    "# Print best parameters\n",
    "best_params = CV_rfc.best_params_\n",
    "print(\"Best parameters:\", best_params)"
   ]
  },
  {
   "cell_type": "markdown",
   "id": "2a1204d1-55f9-43c8-a621-9ea462a288ce",
   "metadata": {
    "tags": []
   },
   "source": [
    "## XGBoost Grid Search"
   ]
  },
  {
   "cell_type": "code",
   "execution_count": 5,
   "id": "f8dc7185-1a1f-416c-b4ae-040b447eb542",
   "metadata": {},
   "outputs": [
    {
     "name": "stdout",
     "output_type": "stream",
     "text": [
      "Fitting 5 folds for each of 324 candidates, totalling 1620 fits\n",
      "Best parameters for XGBoost: {'colsample_bytree': 0.3, 'learning_rate': 0.01, 'max_depth': 6, 'n_estimators': 300, 'subsample': 0.8}\n"
     ]
    }
   ],
   "source": [
    "import xgboost as xgb\n",
    "from sklearn.model_selection import GridSearchCV\n",
    "import numpy as np\n",
    "\n",
    "# Define the XGBoost model\n",
    "xgboost_model = xgb.XGBClassifier(use_label_encoder=False, eval_metric='logloss', random_state=42)\n",
    "\n",
    "# Define the parameter grid\n",
    "param_grid_xgb = {\n",
    "    'n_estimators': [100, 200, 300],\n",
    "    'max_depth': [3, 4, 5, 6],\n",
    "    'learning_rate': [0.01, 0.1, 0.2],\n",
    "    'subsample': [0.8, 0.9, 1.0],\n",
    "    'colsample_bytree': [0.3, 0.5, 0.7]\n",
    "}\n",
    "\n",
    "# Setup GridSearchCV\n",
    "CV_xgb = GridSearchCV(estimator=xgboost_model, param_grid=param_grid_xgb, cv=5, scoring='accuracy', verbose=1)\n",
    "CV_xgb.fit(X_train, y_train)\n",
    "\n",
    "# Print best parameters\n",
    "best_params_xgb = CV_xgb.best_params_\n",
    "print(\"Best parameters for XGBoost:\", best_params_xgb)"
   ]
  },
  {
   "cell_type": "code",
   "execution_count": 6,
   "id": "55a78ecf-f175-4810-93a6-2a64365f6ce2",
   "metadata": {
    "tags": []
   },
   "outputs": [
    {
     "name": "stdout",
     "output_type": "stream",
     "text": [
      "Loaded X_train: (132, 88), y_train: (132,)\n",
      "Loaded X_valid: (17, 88), y_valid: (17,)\n",
      "Loaded X_test: (17, 88), y_test: (17,)\n"
     ]
    }
   ],
   "source": [
    "import os\n",
    "\n",
    "HOME_DIRECTORY = os.path.expanduser(\"~/SageMaker/VIP-Dementia\")\n",
    "save_dir = os.path.join(HOME_DIRECTORY, 'data/processed/eGeMAPS/16000')\n",
    "SPLIT_DATA_DIR = save_dir\n",
    "\n",
    "def load_dataset(filename):\n",
    "    path = os.path.join(SPLIT_DATA_DIR, filename)\n",
    "    if os.path.exists(path):\n",
    "        return np.load(path, allow_pickle=True)\n",
    "    else:\n",
    "        print(f\"File {filename} not found in {SPLIT_DATA_DIR}. Please check the directory and try again.\")\n",
    "        return None\n",
    "\n",
    "# Loading each dataset\n",
    "X_train = load_dataset('X_train.npy')\n",
    "X_valid = load_dataset('X_valid.npy')\n",
    "X_test = load_dataset('X_test.npy')\n",
    "y_train = load_dataset('y_train.npy')\n",
    "y_valid = load_dataset('y_valid.npy')\n",
    "y_test = load_dataset('y_test.npy')\n",
    "\n",
    "if X_train is not None and y_train is not None:\n",
    "    print(f\"Loaded X_train: {X_train.shape}, y_train: {y_train.shape}\")\n",
    "if X_valid is not None and y_valid is not None:\n",
    "    print(f\"Loaded X_valid: {X_valid.shape}, y_valid: {y_valid.shape}\")\n",
    "if X_test is not None and y_test is not None:\n",
    "    print(f\"Loaded X_test: {X_test.shape}, y_test: {y_test.shape}\")"
   ]
  },
  {
   "cell_type": "code",
   "execution_count": 26,
   "id": "a9b88363-a597-4cd3-a658-9cfd4b8da5ee",
   "metadata": {
    "tags": []
   },
   "outputs": [],
   "source": [
    "from sklearn.ensemble import RandomForestClassifier\n",
    "import xgboost as xgb\n",
    "import lightgbm as lgb\n",
    "from sklearn.metrics import roc_curve, roc_auc_score, confusion_matrix\n",
    "import matplotlib.pyplot as plt\n",
    "import seaborn as sns\n",
    "import numpy as np\n",
    "\n",
    "# Best parameters found from grid search\n",
    "best_params_rf = {'criterion': 'gini', 'max_depth': 7, 'max_features': 'sqrt', 'n_estimators': 200}\n",
    "best_params_xgb = {'colsample_bytree': 0.3, 'learning_rate': 0.01, 'max_depth': 6, 'n_estimators': 300, 'subsample': 0.8}\n",
    "best_params_lgb = {\n",
    "    'boosting_type': 'gbdt',\n",
    "    'colsample_bytree': 0.64,\n",
    "    'learning_rate': 0.01,\n",
    "    'max_bin': 200,  # Reduced from 255\n",
    "    'n_estimators': 16,\n",
    "    'num_leaves': 20,  # Increased from 6\n",
    "    'objective': 'binary',\n",
    "    'random_state': 500,\n",
    "    'reg_alpha': 0.5,  # Reduced\n",
    "    'reg_lambda': 1.0,  # Reduced\n",
    "    'subsample': 0.7\n",
    "}\n",
    "\n",
    "\n",
    "models = {\n",
    "    \"Random Forest\": RandomForestClassifier(**best_params_rf),\n",
    "    \"XGBoost\": xgb.XGBClassifier(**best_params_xgb, use_label_encoder=False, eval_metric='logloss'),\n",
    "    \"LightGBM\": lgb.LGBMClassifier(**best_params_lgb)\n",
    "}"
   ]
  },
  {
   "cell_type": "code",
   "execution_count": 27,
   "id": "a28ed7bc-9cee-4576-830f-d25d062100b1",
   "metadata": {
    "tags": []
   },
   "outputs": [
    {
     "name": "stdout",
     "output_type": "stream",
     "text": [
      "Random Forest Model Accuracy: 0.8235\n",
      "XGBoost Model Accuracy: 0.8824\n",
      "[LightGBM] [Info] Number of positive: 69, number of negative: 63\n",
      "[LightGBM] [Info] Auto-choosing col-wise multi-threading, the overhead of testing was 0.000264 seconds.\n",
      "You can set `force_col_wise=true` to remove the overhead.\n",
      "[LightGBM] [Info] Total Bins 3974\n",
      "[LightGBM] [Info] Number of data points in the train set: 132, number of used features: 88\n",
      "[LightGBM] [Info] [binary:BoostFromScore]: pavg=0.522727 -> initscore=0.090972\n",
      "[LightGBM] [Info] Start training from score 0.090972\n",
      "[LightGBM] [Warning] No further splits with positive gain, best gain: -inf\n",
      "[LightGBM] [Warning] No further splits with positive gain, best gain: -inf\n",
      "[LightGBM] [Warning] No further splits with positive gain, best gain: -inf\n",
      "[LightGBM] [Warning] No further splits with positive gain, best gain: -inf\n",
      "[LightGBM] [Warning] No further splits with positive gain, best gain: -inf\n",
      "[LightGBM] [Warning] No further splits with positive gain, best gain: -inf\n",
      "[LightGBM] [Warning] No further splits with positive gain, best gain: -inf\n",
      "[LightGBM] [Warning] No further splits with positive gain, best gain: -inf\n",
      "[LightGBM] [Warning] No further splits with positive gain, best gain: -inf\n",
      "[LightGBM] [Warning] No further splits with positive gain, best gain: -inf\n",
      "[LightGBM] [Warning] No further splits with positive gain, best gain: -inf\n",
      "[LightGBM] [Warning] No further splits with positive gain, best gain: -inf\n",
      "[LightGBM] [Warning] No further splits with positive gain, best gain: -inf\n",
      "[LightGBM] [Warning] No further splits with positive gain, best gain: -inf\n",
      "[LightGBM] [Warning] No further splits with positive gain, best gain: -inf\n",
      "[LightGBM] [Warning] No further splits with positive gain, best gain: -inf\n",
      "LightGBM Model Accuracy: 0.8235\n",
      "All models trained and predictions stored.\n"
     ]
    }
   ],
   "source": [
    "from sklearn.metrics import accuracy_score\n",
    "\n",
    "model_outputs = {}\n",
    "model_accuracies = {}\n",
    "for name, model in models.items():\n",
    "    model.fit(X_train, y_train)  # Train model\n",
    "    probs = model.predict_proba(X_test)[:, 1]\n",
    "    preds = model.predict(X_test)\n",
    "    accuracy = accuracy_score(y_test, preds)\n",
    "    model_outputs[name] = (probs, preds)\n",
    "    model_accuracies[name] = accuracy\n",
    "    print(f\"{name} Model Accuracy: {accuracy:.4f}\")\n",
    "\n",
    "print(\"All models trained and predictions stored.\")"
   ]
  },
  {
   "cell_type": "code",
   "execution_count": 52,
   "id": "1f5cf6d4-d523-4808-8be6-e752e95f96cc",
   "metadata": {
    "tags": []
   },
   "outputs": [],
   "source": [
    "from sklearn.metrics import roc_curve, roc_auc_score, confusion_matrix, auc\n",
    "import pandas as pd\n",
    "\n",
    "def get_roc_curve(y_test, probs, model_name, color):\n",
    "    fpr, tpr, thresholds = roc_curve(y_test, probs)\n",
    "    plt.plot(fpr, tpr, linestyle='-', color=color, label=f'{model_name}', linewidth=0.7)\n",
    "    plt.xlabel('False Positive Rate', fontsize=8)\n",
    "    plt.ylabel('True Positive Rate', fontsize=8)\n",
    "    plt.xticks(fontsize=8)\n",
    "    plt.yticks(fontsize=8)\n",
    "    plt.legend(loc='lower right', fontsize=8)\n",
    "\n",
    "\n",
    "def get_confusion_matrix(y_test, y_pred, class_names, model_name):\n",
    "    cm = confusion_matrix(y_test, y_pred)\n",
    "    cm_percent = cm.astype('float') / cm.sum(axis=1)[:, np.newaxis]  \n",
    "    \n",
    "    fig, ax = plt.subplots(figsize=(8, 6)) \n",
    "    sns.heatmap(cm_percent, annot=True, fmt=\".2%\", cmap='Blues', xticklabels=class_names, yticklabels=class_names, ax=ax)\n",
    "    plt.title(f'Confusion Matrix for {model_name}')\n",
    "    plt.xlabel('Predicted')\n",
    "    plt.ylabel('True')\n",
    "    plt.show()\n",
    "\n",
    "def get_performance_metrics(y_test, model_outputs):\n",
    "    metrics = {\n",
    "        'Model': [],\n",
    "        'Accuracy (%)': [],\n",
    "        'Precision (%)': [],\n",
    "        'Recall (%)': [],\n",
    "        'F1-score (%)': []\n",
    "    }\n",
    "\n",
    "    for name, outputs in model_outputs.items():\n",
    "        y_pred = outputs[1]\n",
    "        metrics['Model'].append(name)\n",
    "        metrics['Accuracy (%)'].append(100 * accuracy_score(y_test, y_pred))\n",
    "        metrics['Precision (%)'].append(100 * precision_score(y_test, y_pred, average=\"macro\"))\n",
    "        metrics['Recall (%)'].append(100 * recall_score(y_test, y_pred, average=\"macro\"))\n",
    "        metrics['F1-score (%)'].append(100 * f1_score(y_test, y_pred, average=\"macro\"))\n",
    "\n",
    "    results_df = pd.DataFrame(metrics)\n",
    "    return results_df"
   ]
  },
  {
   "cell_type": "code",
   "execution_count": 53,
   "id": "b0c8a7b4-4b0e-4953-9087-192e05af473d",
   "metadata": {
    "tags": []
   },
   "outputs": [
    {
     "data": {
      "image/png": "[encoded data removed]",
      "text/plain": [
       "<Figure size 600x700 with 1 Axes>"
      ]
     },
     "metadata": {},
     "output_type": "display_data"
    }
   ],
   "source": [
    "plt.figure(figsize=(6, 7))\n",
    "colors = {'Random Forest': '#00FF00', 'XGBoost': '#0000FF', 'LightGBM': '#FF0000'}\n",
    "\n",
    "for name, outputs in model_outputs.items():\n",
    "    get_roc_curve(y_test, outputs[0], name, colors[name])\n",
    "\n",
    "plt.show()"
   ]
  },
  {
   "cell_type": "code",
   "execution_count": 55,
   "id": "435c79d8-d247-4bf9-bb04-794b9563a888",
   "metadata": {
    "tags": []
   },
   "outputs": [
    {
     "data": {
      "image/png": "[encoded data removed]",
      "text/plain": [
       "<Figure size 800x600 with 2 Axes>"
      ]
     },
     "metadata": {},
     "output_type": "display_data"
    },
    {
     "data": {
      "image/png": "[encoded data removed]",
      "text/plain": [
       "<Figure size 800x600 with 2 Axes>"
      ]
     },
     "metadata": {},
     "output_type": "display_data"
    },
    {
     "data": {
      "image/png": "[encoded data removed]",
      "text/plain": [
       "<Figure size 800x600 with 2 Axes>"
      ]
     },
     "metadata": {},
     "output_type": "display_data"
    }
   ],
   "source": [
    "class_names = ['CN', 'AD']\n",
    "\n",
    "for name, outputs in model_outputs.items():\n",
    "    get_confusion_matrix(y_test, outputs[1], class_names, name)"
   ]
  },
  {
   "cell_type": "code",
   "execution_count": 56,
   "id": "62248da9-cd83-4bf0-b8f8-81330ed1681c",
   "metadata": {
    "tags": []
   },
   "outputs": [
    {
     "name": "stdout",
     "output_type": "stream",
     "text": [
      "           Model  Accuracy (%)  Precision (%)  Recall (%)  F1-score (%)\n",
      "0  Random Forest     82.352941      82.857143   81.944444     82.105263\n",
      "1        XGBoost     88.235294      90.909091   87.500000     87.857143\n",
      "2       LightGBM     82.352941      87.500000   81.250000     81.318681\n"
     ]
    }
   ],
   "source": [
    "results_df = get_performance_metrics(y_test, model_outputs)\n",
    "print(results_df)"
   ]
  }
 ],
 "metadata": {
  "kernelspec": {
   "display_name": "conda_python3",
   "language": "python",
   "name": "conda_python3"
  },
  "language_info": {
   "codemirror_mode": {
    "name": "ipython",
    "version": 3
   },
   "file_extension": ".py",
   "mimetype": "text/x-python",
   "name": "python",
   "nbconvert_exporter": "python",
   "pygments_lexer": "ipython3",
   "version": "3.10.13"
  }
 },
 "nbformat": 4,
 "nbformat_minor": 5
}
